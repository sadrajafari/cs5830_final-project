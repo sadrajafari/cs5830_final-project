{
 "cells": [
  {
   "cell_type": "code",
   "execution_count": null,
   "id": "a0970770-b7f8-40a4-a5af-f71a70b74e95",
   "metadata": {},
   "outputs": [],
   "source": [
    "import os\n",
    "import pandas as pd\n",
    "import seaborn as sns\n",
    "from sklearn.tree import DecisionTreeClassifier\n",
    "from tqdm import tqdm"
   ]
  },
  {
   "cell_type": "code",
   "execution_count": null,
   "id": "ee05472c-c469-44f6-9588-c89717ea3239",
   "metadata": {},
   "outputs": [],
   "source": [
    "def read_csv_file(file_path, df):\n",
    "    df1 = pd.read_csv(file_path, sep='\\t')\n",
    "    return pd.concat([df, df1])"
   ]
  },
  {
   "cell_type": "code",
   "execution_count": null,
   "id": "2efd76bf-3692-4e36-87f7-5ae09c30dfaf",
   "metadata": {},
   "outputs": [],
   "source": [
    "COLAB_PATH = os.getcwd()\n",
    "DATA_PATH = os.path.join(COLAB_PATH, 'data')\n",
    "dirs = os.listdir(DATA_PATH)\n",
    "df = pd.DataFrame()\n",
    "for dir in dirs:\n",
    "    if \"partition\" in dir:\n",
    "        FOLDER_PATH = os.path.join(DATA_PATH, dir)\n",
    "        print(FOLDER_PATH)\n",
    "        files = os.listdir(FOLDER_PATH)\n",
    "        for file in tqdm(files):\n",
    "            df = read_csv_file(os.path.join(FOLDER_PATH, file), df)\n",
    "# df.to_csv('combine.csv')"
   ]
  },
  {
   "cell_type": "code",
   "execution_count": null,
   "id": "a22daef6-db04-40a2-a419-983a99e9dbee",
   "metadata": {},
   "outputs": [],
   "source": [
    "display(df.head(5))"
   ]
  },
  {
   "cell_type": "code",
   "execution_count": null,
   "id": "9dd73d45-356d-41c4-8660-6b7b787ddfe4",
   "metadata": {},
   "outputs": [],
   "source": [
    "df['y'] = 0\n",
    "df.loc[df['BFLARE'] > 0, 'y'] = 1\n",
    "df.loc[df['CFLARE'] > 0, 'y'] = 2\n",
    "df.loc[df['MFLARE'] > 0, 'y'] = 3\n",
    "df.loc[df['XFLARE'] > 0, 'y'] = 4\n",
    "display(df.shape)\n",
    "display(df.columns)"
   ]
  },
  {
   "cell_type": "code",
   "execution_count": null,
   "id": "d7d1eb8b-e6fc-44cc-8f22-23fdb07a98f8",
   "metadata": {},
   "outputs": [],
   "source": [
    "df = df.drop([\n",
    "    'MFLARE_LABEL', \n",
    "    'BFLARE_LABEL', \n",
    "    'CFLARE_LABEL', \n",
    "    'XFLARE_LABEL', \n",
    "    'XFLARE_LABEL_LOC', \n",
    "    'BFLARE_LABEL_LOC', \n",
    "    'MFLARE_LABEL_LOC', \n",
    "    'CFLARE_LABEL_LOC', \n",
    "    'BFLARE_LOC', \n",
    "    'XFLARE_LOC',\n",
    "    'MFLARE_LOC',\n",
    "    'CFLARE_LOC',\n",
    "    'XFLARE', \n",
    "    'BFLARE',\n",
    "    'CFLARE',\n",
    "    'MFLARE',\n",
    "    'XR_MAX',\n",
    "], axis=1)\n",
    "df.shape"
   ]
  },
  {
   "cell_type": "code",
   "execution_count": null,
   "id": "695c5b54-e9b5-4db0-b198-9b709070eff3",
   "metadata": {},
   "outputs": [],
   "source": [
    "df['y'].value_counts()"
   ]
  },
  {
   "cell_type": "code",
   "execution_count": null,
   "id": "29426244-a82f-4144-b13c-006cca1a0f1b",
   "metadata": {},
   "outputs": [],
   "source": [
    "df_no_flares = df.loc[df['y'] == 0]\n",
    "df_no_flares.sample(5)"
   ]
  },
  {
   "cell_type": "code",
   "execution_count": null,
   "id": "417f748c-bdc0-4bcc-ba9a-f4c863dfe14f",
   "metadata": {},
   "outputs": [],
   "source": [
    "df_no_flares = df_no_flares[df_no_flares.IS_TMFI==True]\n",
    "display(df_no_flares.shape)"
   ]
  },
  {
   "cell_type": "code",
   "execution_count": null,
   "id": "7ab38333-d0db-4190-a4b3-4e05d07686ee",
   "metadata": {},
   "outputs": [],
   "source": [
    "df_no_flares = df_no_flares[df_no_flares.XR_QUAL==12]\n",
    "display(df_no_flares.shape)"
   ]
  },
  {
   "cell_type": "code",
   "execution_count": null,
   "id": "2ab15222-1a63-48c5-9bba-d7c992c0c437",
   "metadata": {},
   "outputs": [],
   "source": [
    "df_no_flares = df_no_flares.dropna()\n",
    "df_no_flares.shape"
   ]
  },
  {
   "cell_type": "code",
   "execution_count": null,
   "id": "7b87aad1-4420-4485-8fd1-0e524818236e",
   "metadata": {},
   "outputs": [],
   "source": [
    "df_no_flares = df_no_flares.sample(frac=0.01)\n",
    "display(df_no_flares.shape)"
   ]
  },
  {
   "cell_type": "code",
   "execution_count": null,
   "id": "47443db1-29b8-402c-816b-167a6d50890c",
   "metadata": {},
   "outputs": [],
   "source": [
    "df_flares = df.loc[df['y'] != 0]\n",
    "df_flares.sample(5)"
   ]
  },
  {
   "cell_type": "code",
   "execution_count": null,
   "id": "42080815-d7ff-4878-9af6-d6a300ba91f8",
   "metadata": {},
   "outputs": [],
   "source": [
    "df_flares = df_flares.dropna()\n",
    "display(df_flares.shape)"
   ]
  },
  {
   "cell_type": "code",
   "execution_count": null,
   "id": "8e0953d2-32be-44b0-898a-b9a51d335117",
   "metadata": {},
   "outputs": [],
   "source": [
    "df_data = pd.concat([df_flares, df_no_flares])\n",
    "df_data.shape"
   ]
  },
  {
   "cell_type": "code",
   "execution_count": null,
   "id": "6b21bfe1-6231-4261-af81-aa740f478c24",
   "metadata": {},
   "outputs": [],
   "source": [
    "df_data['Timestamp'] = pd.to_datetime(df_data['Timestamp'])"
   ]
  },
  {
   "cell_type": "code",
   "execution_count": null,
   "id": "5a1e054e-256c-4306-bacb-2f94a517d59b",
   "metadata": {},
   "outputs": [],
   "source": [
    "df_data.columns"
   ]
  },
  {
   "cell_type": "code",
   "execution_count": null,
   "id": "8637fe87-14ca-4434-b7d0-9bb0468859a7",
   "metadata": {},
   "outputs": [],
   "source": [
    "df_data = df_data.drop([\n",
    "    'CRVAL1',\n",
    "    'CRLN_OBS', \n",
    "    'CRLT_OBS', \n",
    "    'CRVAL2', \n",
    "    'HC_ANGLE', \n",
    "    'SPEI', \n",
    "    'LAT_MIN',\n",
    "    'LON_MIN', \n",
    "    'LAT_MAX', \n",
    "    'LON_MAX', \n",
    "    'QUALITY', \n",
    "    'XR_QUAL', \n",
    "    'IS_TMFI'\n",
    "], axis=1)"
   ]
  },
  {
   "cell_type": "code",
   "execution_count": null,
   "id": "9e337606-c23f-4a43-b32f-dccbfd478c2c",
   "metadata": {},
   "outputs": [],
   "source": [
    "df_data.sample(5)"
   ]
  },
  {
   "cell_type": "code",
   "execution_count": null,
   "id": "af94e8df-f33d-4e6f-9e55-11ffbcdf6c4c",
   "metadata": {},
   "outputs": [],
   "source": [
    "df_data.shape"
   ]
  },
  {
   "cell_type": "code",
   "execution_count": null,
   "id": "75eb0c18-5230-4844-bec4-da9e3c9fa883",
   "metadata": {},
   "outputs": [],
   "source": [
    "df_data.to_csv('data.csv')"
   ]
  }
 ],
 "metadata": {
  "kernelspec": {
   "display_name": "Python 3 (ipykernel)",
   "language": "python",
   "name": "python3"
  },
  "language_info": {
   "codemirror_mode": {
    "name": "ipython",
    "version": 3
   },
   "file_extension": ".py",
   "mimetype": "text/x-python",
   "name": "python",
   "nbconvert_exporter": "python",
   "pygments_lexer": "ipython3",
   "version": "3.11.7"
  }
 },
 "nbformat": 4,
 "nbformat_minor": 5
}
