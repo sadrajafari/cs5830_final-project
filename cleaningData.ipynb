{
 "cells": [
  {
   "cell_type": "code",
   "execution_count": 6,
   "id": "a0970770-b7f8-40a4-a5af-f71a70b74e95",
   "metadata": {},
   "outputs": [],
   "source": [
    "import os\n",
    "import pandas as pd\n",
    "import seaborn as sns\n",
    "from sklearn.tree import DecisionTreeClassifier"
   ]
  },
  {
   "cell_type": "code",
   "execution_count": 7,
   "id": "9dd73d45-356d-41c4-8660-6b7b787ddfe4",
   "metadata": {},
   "outputs": [
    {
     "name": "stderr",
     "output_type": "stream",
     "text": [
      "/var/folders/lj/ngxfqbbj7xg_kxn_4jf4cjzc0000gn/T/ipykernel_82134/120112805.py:1: DtypeWarning: Columns (38,40,42,44,46,50,52) have mixed types. Specify dtype option on import or set low_memory=False.\n",
      "  df = pd.read_csv(\"combine.csv\", index_col=0)\n"
     ]
    },
    {
     "data": {
      "text/plain": [
       "(2879658, 55)"
      ]
     },
     "execution_count": 7,
     "metadata": {},
     "output_type": "execute_result"
    }
   ],
   "source": [
    "df = pd.read_csv(\"combine.csv\", index_col=0)\n",
    "df.shape"
   ]
  },
  {
   "cell_type": "code",
   "execution_count": 8,
   "id": "d7d1eb8b-e6fc-44cc-8f22-23fdb07a98f8",
   "metadata": {},
   "outputs": [
    {
     "data": {
      "text/plain": [
       "(2879658, 43)"
      ]
     },
     "execution_count": 8,
     "metadata": {},
     "output_type": "execute_result"
    }
   ],
   "source": [
    "df = df.drop([\n",
    "    'MFLARE_LABEL', \n",
    "    'BFLARE_LABEL', \n",
    "    'CFLARE_LABEL', \n",
    "    'XFLARE_LABEL', \n",
    "    'XFLARE_LABEL_LOC', \n",
    "    'BFLARE_LABEL_LOC', \n",
    "    'MFLARE_LABEL_LOC', \n",
    "    'CFLARE_LABEL_LOC', \n",
    "    'BFLARE_LOC', \n",
    "    'XFLARE_LOC',\n",
    "    'MFLARE_LOC',\n",
    "    'CFLARE_LOC'\n",
    "], axis=1)\n",
    "df.shape"
   ]
  },
  {
   "cell_type": "code",
   "execution_count": 9,
   "id": "695c5b54-e9b5-4db0-b198-9b709070eff3",
   "metadata": {},
   "outputs": [
    {
     "data": {
      "text/plain": [
       "(47, 43)"
      ]
     },
     "metadata": {},
     "output_type": "display_data"
    },
    {
     "data": {
      "text/plain": [
       "(4652, 43)"
      ]
     },
     "metadata": {},
     "output_type": "display_data"
    },
    {
     "data": {
      "text/plain": [
       "(7046, 43)"
      ]
     },
     "metadata": {},
     "output_type": "display_data"
    },
    {
     "data": {
      "text/plain": [
       "(703, 43)"
      ]
     },
     "metadata": {},
     "output_type": "display_data"
    }
   ],
   "source": [
    "df_X = df[df.XFLARE != 0]\n",
    "display(df_X.shape)\n",
    "df_B = df[df.BFLARE != 0]\n",
    "display(df_B.shape)\n",
    "df_C = df[df.CFLARE != 0]\n",
    "display(df_C.shape)\n",
    "df_M = df[df.MFLARE != 0]\n",
    "display(df_M.shape)"
   ]
  },
  {
   "cell_type": "code",
   "execution_count": 10,
   "id": "7ab38333-d0db-4190-a4b3-4e05d07686ee",
   "metadata": {},
   "outputs": [
    {
     "data": {
      "text/plain": [
       "(2075865, 43)"
      ]
     },
     "metadata": {},
     "output_type": "display_data"
    },
    {
     "data": {
      "text/plain": [
       "(2051184, 43)"
      ]
     },
     "metadata": {},
     "output_type": "display_data"
    }
   ],
   "source": [
    "df_temp = df[df.IS_TMFI]\n",
    "display(df_temp.shape)\n",
    "df_temp = df_temp[df_temp.XR_QUAL==12]\n",
    "display(df_temp.shape)"
   ]
  },
  {
   "cell_type": "code",
   "execution_count": 11,
   "id": "7b87aad1-4420-4485-8fd1-0e524818236e",
   "metadata": {},
   "outputs": [
    {
     "data": {
      "text/plain": [
       "(20512, 43)"
      ]
     },
     "metadata": {},
     "output_type": "display_data"
    }
   ],
   "source": [
    "df_temp = df_temp.sample(frac=0.01)\n",
    "display(df_temp.shape)"
   ]
  },
  {
   "cell_type": "code",
   "execution_count": 12,
   "id": "42080815-d7ff-4878-9af6-d6a300ba91f8",
   "metadata": {},
   "outputs": [],
   "source": [
    "df_temp = df_temp.dropna()"
   ]
  },
  {
   "cell_type": "code",
   "execution_count": 13,
   "id": "8e0953d2-32be-44b0-898a-b9a51d335117",
   "metadata": {},
   "outputs": [
    {
     "data": {
      "text/plain": [
       "(32784, 43)"
      ]
     },
     "execution_count": 13,
     "metadata": {},
     "output_type": "execute_result"
    }
   ],
   "source": [
    "df_data = pd.concat([df_temp, df_X, df_B, df_C, df_M])\n",
    "df_data.shape"
   ]
  },
  {
   "cell_type": "code",
   "execution_count": 9,
   "id": "fe016e32-0fb4-4c61-b934-828f23787d0e",
   "metadata": {},
   "outputs": [],
   "source": [
    "df_data['y'] = 0\n",
    "df_data.loc[df_data['BFLARE'] > 0, 'y'] = 1\n",
    "df_data.loc[df_data['CFLARE'] > 0, 'y'] = 2\n",
    "df_data.loc[df_data['MFLARE'] > 0, 'y'] = 3\n",
    "df_data.loc[df_data['XFLARE'] > 0, 'y'] = 4"
   ]
  },
  {
   "cell_type": "code",
   "execution_count": 10,
   "id": "6b21bfe1-6231-4261-af81-aa740f478c24",
   "metadata": {},
   "outputs": [],
   "source": [
    "df_data['Timestamp'] = pd.to_datetime(df_data['Timestamp'])"
   ]
  },
  {
   "cell_type": "code",
   "execution_count": 11,
   "id": "8637fe87-14ca-4434-b7d0-9bb0468859a7",
   "metadata": {},
   "outputs": [],
   "source": [
    "df_data = df_data.drop([\n",
    "    'XFLARE', \n",
    "    'BFLARE',\n",
    "    'CFLARE',\n",
    "    'MFLARE',\n",
    "    'IS_TMFI',\n",
    "    'XR_QUAL',\n",
    "    'QUALITY',\n",
    "    'SPEI',\n",
    "], axis=1)"
   ]
  },
  {
   "cell_type": "code",
   "execution_count": 12,
   "id": "9e337606-c23f-4a43-b32f-dccbfd478c2c",
   "metadata": {},
   "outputs": [
    {
     "data": {
      "text/html": [
       "<div>\n",
       "<style scoped>\n",
       "    .dataframe tbody tr th:only-of-type {\n",
       "        vertical-align: middle;\n",
       "    }\n",
       "\n",
       "    .dataframe tbody tr th {\n",
       "        vertical-align: top;\n",
       "    }\n",
       "\n",
       "    .dataframe thead th {\n",
       "        text-align: right;\n",
       "    }\n",
       "</style>\n",
       "<table border=\"1\" class=\"dataframe\">\n",
       "  <thead>\n",
       "    <tr style=\"text-align: right;\">\n",
       "      <th></th>\n",
       "      <th>Timestamp</th>\n",
       "      <th>TOTUSJH</th>\n",
       "      <th>TOTBSQ</th>\n",
       "      <th>TOTPOT</th>\n",
       "      <th>TOTUSJZ</th>\n",
       "      <th>ABSNJZH</th>\n",
       "      <th>SAVNCPP</th>\n",
       "      <th>USFLUX</th>\n",
       "      <th>TOTFZ</th>\n",
       "      <th>MEANPOT</th>\n",
       "      <th>...</th>\n",
       "      <th>CRLN_OBS</th>\n",
       "      <th>CRLT_OBS</th>\n",
       "      <th>CRVAL2</th>\n",
       "      <th>HC_ANGLE</th>\n",
       "      <th>LAT_MIN</th>\n",
       "      <th>LON_MIN</th>\n",
       "      <th>LAT_MAX</th>\n",
       "      <th>LON_MAX</th>\n",
       "      <th>XR_MAX</th>\n",
       "      <th>y</th>\n",
       "    </tr>\n",
       "  </thead>\n",
       "  <tbody>\n",
       "    <tr>\n",
       "      <th>1621</th>\n",
       "      <td>2014-01-13 09:12:00</td>\n",
       "      <td>3855.911731</td>\n",
       "      <td>8.699264e+10</td>\n",
       "      <td>1.568015e+24</td>\n",
       "      <td>6.872330e+13</td>\n",
       "      <td>790.347468</td>\n",
       "      <td>3.108382e+13</td>\n",
       "      <td>8.387580e+22</td>\n",
       "      <td>-2.933523e+25</td>\n",
       "      <td>9933.328336</td>\n",
       "      <td>...</td>\n",
       "      <td>26.433075</td>\n",
       "      <td>-4.378037</td>\n",
       "      <td>-13.258850</td>\n",
       "      <td>66.419700</td>\n",
       "      <td>-21.056942</td>\n",
       "      <td>28.797804</td>\n",
       "      <td>-3.970101</td>\n",
       "      <td>86.304688</td>\n",
       "      <td>9.868100e-07</td>\n",
       "      <td>2</td>\n",
       "    </tr>\n",
       "    <tr>\n",
       "      <th>1238</th>\n",
       "      <td>2012-05-04 02:48:00</td>\n",
       "      <td>1759.768611</td>\n",
       "      <td>2.211153e+10</td>\n",
       "      <td>2.230206e+23</td>\n",
       "      <td>3.496524e+13</td>\n",
       "      <td>66.359245</td>\n",
       "      <td>6.024287e+12</td>\n",
       "      <td>3.152579e+22</td>\n",
       "      <td>-1.507271e+25</td>\n",
       "      <td>3463.505895</td>\n",
       "      <td>...</td>\n",
       "      <td>281.735870</td>\n",
       "      <td>-3.825040</td>\n",
       "      <td>-22.219950</td>\n",
       "      <td>60.209839</td>\n",
       "      <td>-28.824751</td>\n",
       "      <td>41.747890</td>\n",
       "      <td>-15.378783</td>\n",
       "      <td>74.634911</td>\n",
       "      <td>6.837800e-07</td>\n",
       "      <td>1</td>\n",
       "    </tr>\n",
       "    <tr>\n",
       "      <th>613</th>\n",
       "      <td>2015-09-27 10:36:00</td>\n",
       "      <td>2829.836623</td>\n",
       "      <td>5.107480e+10</td>\n",
       "      <td>1.069896e+24</td>\n",
       "      <td>5.248948e+13</td>\n",
       "      <td>620.205063</td>\n",
       "      <td>1.812502e+13</td>\n",
       "      <td>3.200798e+22</td>\n",
       "      <td>-6.333770e+24</td>\n",
       "      <td>17608.362286</td>\n",
       "      <td>...</td>\n",
       "      <td>94.151688</td>\n",
       "      <td>6.879247</td>\n",
       "      <td>-19.843800</td>\n",
       "      <td>28.060997</td>\n",
       "      <td>-24.365845</td>\n",
       "      <td>-3.008589</td>\n",
       "      <td>-14.664344</td>\n",
       "      <td>17.953999</td>\n",
       "      <td>1.947600e-05</td>\n",
       "      <td>3</td>\n",
       "    </tr>\n",
       "    <tr>\n",
       "      <th>354</th>\n",
       "      <td>2011-09-08 19:48:00</td>\n",
       "      <td>1590.585785</td>\n",
       "      <td>3.171686e+10</td>\n",
       "      <td>5.645535e+23</td>\n",
       "      <td>3.123600e+13</td>\n",
       "      <td>214.807756</td>\n",
       "      <td>1.021762e+13</td>\n",
       "      <td>2.855311e+22</td>\n",
       "      <td>-1.021726e+25</td>\n",
       "      <td>9885.847886</td>\n",
       "      <td>...</td>\n",
       "      <td>183.337845</td>\n",
       "      <td>7.250689</td>\n",
       "      <td>21.686050</td>\n",
       "      <td>58.230956</td>\n",
       "      <td>17.902380</td>\n",
       "      <td>-67.098160</td>\n",
       "      <td>26.652119</td>\n",
       "      <td>-47.497864</td>\n",
       "      <td>4.881200e-07</td>\n",
       "      <td>0</td>\n",
       "    </tr>\n",
       "    <tr>\n",
       "      <th>849</th>\n",
       "      <td>2013-11-09 01:00:00</td>\n",
       "      <td>3409.247736</td>\n",
       "      <td>4.584637e+10</td>\n",
       "      <td>8.969798e+23</td>\n",
       "      <td>6.667821e+13</td>\n",
       "      <td>587.208657</td>\n",
       "      <td>1.189362e+13</td>\n",
       "      <td>3.580967e+22</td>\n",
       "      <td>-6.874105e+24</td>\n",
       "      <td>11640.055777</td>\n",
       "      <td>...</td>\n",
       "      <td>167.349655</td>\n",
       "      <td>3.532138</td>\n",
       "      <td>-9.219151</td>\n",
       "      <td>12.877708</td>\n",
       "      <td>-17.834396</td>\n",
       "      <td>-10.179320</td>\n",
       "      <td>-1.091376</td>\n",
       "      <td>14.692019</td>\n",
       "      <td>1.072600e-06</td>\n",
       "      <td>0</td>\n",
       "    </tr>\n",
       "  </tbody>\n",
       "</table>\n",
       "<p>5 rows × 36 columns</p>\n",
       "</div>"
      ],
      "text/plain": [
       "               Timestamp      TOTUSJH        TOTBSQ        TOTPOT  \\\n",
       "1621 2014-01-13 09:12:00  3855.911731  8.699264e+10  1.568015e+24   \n",
       "1238 2012-05-04 02:48:00  1759.768611  2.211153e+10  2.230206e+23   \n",
       "613  2015-09-27 10:36:00  2829.836623  5.107480e+10  1.069896e+24   \n",
       "354  2011-09-08 19:48:00  1590.585785  3.171686e+10  5.645535e+23   \n",
       "849  2013-11-09 01:00:00  3409.247736  4.584637e+10  8.969798e+23   \n",
       "\n",
       "           TOTUSJZ     ABSNJZH       SAVNCPP        USFLUX         TOTFZ  \\\n",
       "1621  6.872330e+13  790.347468  3.108382e+13  8.387580e+22 -2.933523e+25   \n",
       "1238  3.496524e+13   66.359245  6.024287e+12  3.152579e+22 -1.507271e+25   \n",
       "613   5.248948e+13  620.205063  1.812502e+13  3.200798e+22 -6.333770e+24   \n",
       "354   3.123600e+13  214.807756  1.021762e+13  2.855311e+22 -1.021726e+25   \n",
       "849   6.667821e+13  587.208657  1.189362e+13  3.580967e+22 -6.874105e+24   \n",
       "\n",
       "           MEANPOT  ...    CRLN_OBS  CRLT_OBS     CRVAL2   HC_ANGLE  \\\n",
       "1621   9933.328336  ...   26.433075 -4.378037 -13.258850  66.419700   \n",
       "1238   3463.505895  ...  281.735870 -3.825040 -22.219950  60.209839   \n",
       "613   17608.362286  ...   94.151688  6.879247 -19.843800  28.060997   \n",
       "354    9885.847886  ...  183.337845  7.250689  21.686050  58.230956   \n",
       "849   11640.055777  ...  167.349655  3.532138  -9.219151  12.877708   \n",
       "\n",
       "        LAT_MIN    LON_MIN    LAT_MAX    LON_MAX        XR_MAX  y  \n",
       "1621 -21.056942  28.797804  -3.970101  86.304688  9.868100e-07  2  \n",
       "1238 -28.824751  41.747890 -15.378783  74.634911  6.837800e-07  1  \n",
       "613  -24.365845  -3.008589 -14.664344  17.953999  1.947600e-05  3  \n",
       "354   17.902380 -67.098160  26.652119 -47.497864  4.881200e-07  0  \n",
       "849  -17.834396 -10.179320  -1.091376  14.692019  1.072600e-06  0  \n",
       "\n",
       "[5 rows x 36 columns]"
      ]
     },
     "execution_count": 12,
     "metadata": {},
     "output_type": "execute_result"
    }
   ],
   "source": [
    "df_data.sample(5)"
   ]
  },
  {
   "cell_type": "code",
   "execution_count": 13,
   "id": "8e275609-7173-4277-8c7a-140a65f4f91a",
   "metadata": {},
   "outputs": [
    {
     "data": {
      "text/html": [
       "<div>\n",
       "<style scoped>\n",
       "    .dataframe tbody tr th:only-of-type {\n",
       "        vertical-align: middle;\n",
       "    }\n",
       "\n",
       "    .dataframe tbody tr th {\n",
       "        vertical-align: top;\n",
       "    }\n",
       "\n",
       "    .dataframe thead th {\n",
       "        text-align: right;\n",
       "    }\n",
       "</style>\n",
       "<table border=\"1\" class=\"dataframe\">\n",
       "  <thead>\n",
       "    <tr style=\"text-align: right;\">\n",
       "      <th></th>\n",
       "      <th>y</th>\n",
       "    </tr>\n",
       "  </thead>\n",
       "  <tbody>\n",
       "    <tr>\n",
       "      <th>Timestamp</th>\n",
       "      <td>0.029987</td>\n",
       "    </tr>\n",
       "    <tr>\n",
       "      <th>TOTUSJH</th>\n",
       "      <td>0.565418</td>\n",
       "    </tr>\n",
       "    <tr>\n",
       "      <th>TOTBSQ</th>\n",
       "      <td>0.527332</td>\n",
       "    </tr>\n",
       "    <tr>\n",
       "      <th>TOTPOT</th>\n",
       "      <td>0.137785</td>\n",
       "    </tr>\n",
       "    <tr>\n",
       "      <th>TOTUSJZ</th>\n",
       "      <td>0.559952</td>\n",
       "    </tr>\n",
       "    <tr>\n",
       "      <th>ABSNJZH</th>\n",
       "      <td>0.449720</td>\n",
       "    </tr>\n",
       "    <tr>\n",
       "      <th>SAVNCPP</th>\n",
       "      <td>0.468942</td>\n",
       "    </tr>\n",
       "    <tr>\n",
       "      <th>USFLUX</th>\n",
       "      <td>0.556764</td>\n",
       "    </tr>\n",
       "    <tr>\n",
       "      <th>TOTFZ</th>\n",
       "      <td>-0.529536</td>\n",
       "    </tr>\n",
       "    <tr>\n",
       "      <th>MEANPOT</th>\n",
       "      <td>-0.006125</td>\n",
       "    </tr>\n",
       "    <tr>\n",
       "      <th>EPSZ</th>\n",
       "      <td>0.459889</td>\n",
       "    </tr>\n",
       "    <tr>\n",
       "      <th>MEANSHR</th>\n",
       "      <td>0.473193</td>\n",
       "    </tr>\n",
       "    <tr>\n",
       "      <th>SHRGT45</th>\n",
       "      <td>0.486780</td>\n",
       "    </tr>\n",
       "    <tr>\n",
       "      <th>MEANGAM</th>\n",
       "      <td>0.419235</td>\n",
       "    </tr>\n",
       "    <tr>\n",
       "      <th>MEANGBT</th>\n",
       "      <td>-0.436099</td>\n",
       "    </tr>\n",
       "    <tr>\n",
       "      <th>MEANGBZ</th>\n",
       "      <td>-0.349740</td>\n",
       "    </tr>\n",
       "    <tr>\n",
       "      <th>MEANGBH</th>\n",
       "      <td>-0.013596</td>\n",
       "    </tr>\n",
       "    <tr>\n",
       "      <th>MEANJZH</th>\n",
       "      <td>0.014119</td>\n",
       "    </tr>\n",
       "    <tr>\n",
       "      <th>TOTFY</th>\n",
       "      <td>-0.116472</td>\n",
       "    </tr>\n",
       "    <tr>\n",
       "      <th>MEANJZD</th>\n",
       "      <td>-0.152130</td>\n",
       "    </tr>\n",
       "    <tr>\n",
       "      <th>MEANALP</th>\n",
       "      <td>0.026549</td>\n",
       "    </tr>\n",
       "    <tr>\n",
       "      <th>TOTFX</th>\n",
       "      <td>0.010837</td>\n",
       "    </tr>\n",
       "    <tr>\n",
       "      <th>EPSY</th>\n",
       "      <td>0.006812</td>\n",
       "    </tr>\n",
       "    <tr>\n",
       "      <th>EPSX</th>\n",
       "      <td>-0.015818</td>\n",
       "    </tr>\n",
       "    <tr>\n",
       "      <th>R_VALUE</th>\n",
       "      <td>0.648474</td>\n",
       "    </tr>\n",
       "    <tr>\n",
       "      <th>CRVAL1</th>\n",
       "      <td>-0.003014</td>\n",
       "    </tr>\n",
       "    <tr>\n",
       "      <th>CRLN_OBS</th>\n",
       "      <td>0.006083</td>\n",
       "    </tr>\n",
       "    <tr>\n",
       "      <th>CRLT_OBS</th>\n",
       "      <td>0.009549</td>\n",
       "    </tr>\n",
       "    <tr>\n",
       "      <th>CRVAL2</th>\n",
       "      <td>-0.033274</td>\n",
       "    </tr>\n",
       "    <tr>\n",
       "      <th>HC_ANGLE</th>\n",
       "      <td>0.306510</td>\n",
       "    </tr>\n",
       "    <tr>\n",
       "      <th>LAT_MIN</th>\n",
       "      <td>-0.102843</td>\n",
       "    </tr>\n",
       "    <tr>\n",
       "      <th>LON_MIN</th>\n",
       "      <td>-0.088230</td>\n",
       "    </tr>\n",
       "    <tr>\n",
       "      <th>LAT_MAX</th>\n",
       "      <td>0.043541</td>\n",
       "    </tr>\n",
       "    <tr>\n",
       "      <th>LON_MAX</th>\n",
       "      <td>0.052506</td>\n",
       "    </tr>\n",
       "    <tr>\n",
       "      <th>XR_MAX</th>\n",
       "      <td>-0.036833</td>\n",
       "    </tr>\n",
       "    <tr>\n",
       "      <th>y</th>\n",
       "      <td>1.000000</td>\n",
       "    </tr>\n",
       "  </tbody>\n",
       "</table>\n",
       "</div>"
      ],
      "text/plain": [
       "                  y\n",
       "Timestamp  0.029987\n",
       "TOTUSJH    0.565418\n",
       "TOTBSQ     0.527332\n",
       "TOTPOT     0.137785\n",
       "TOTUSJZ    0.559952\n",
       "ABSNJZH    0.449720\n",
       "SAVNCPP    0.468942\n",
       "USFLUX     0.556764\n",
       "TOTFZ     -0.529536\n",
       "MEANPOT   -0.006125\n",
       "EPSZ       0.459889\n",
       "MEANSHR    0.473193\n",
       "SHRGT45    0.486780\n",
       "MEANGAM    0.419235\n",
       "MEANGBT   -0.436099\n",
       "MEANGBZ   -0.349740\n",
       "MEANGBH   -0.013596\n",
       "MEANJZH    0.014119\n",
       "TOTFY     -0.116472\n",
       "MEANJZD   -0.152130\n",
       "MEANALP    0.026549\n",
       "TOTFX      0.010837\n",
       "EPSY       0.006812\n",
       "EPSX      -0.015818\n",
       "R_VALUE    0.648474\n",
       "CRVAL1    -0.003014\n",
       "CRLN_OBS   0.006083\n",
       "CRLT_OBS   0.009549\n",
       "CRVAL2    -0.033274\n",
       "HC_ANGLE   0.306510\n",
       "LAT_MIN   -0.102843\n",
       "LON_MIN   -0.088230\n",
       "LAT_MAX    0.043541\n",
       "LON_MAX    0.052506\n",
       "XR_MAX    -0.036833\n",
       "y          1.000000"
      ]
     },
     "execution_count": 13,
     "metadata": {},
     "output_type": "execute_result"
    }
   ],
   "source": [
    "df_data.corr()[['y']]"
   ]
  },
  {
   "cell_type": "code",
   "execution_count": 14,
   "id": "af94e8df-f33d-4e6f-9e55-11ffbcdf6c4c",
   "metadata": {},
   "outputs": [
    {
     "data": {
      "text/plain": [
       "(32960, 36)"
      ]
     },
     "execution_count": 14,
     "metadata": {},
     "output_type": "execute_result"
    }
   ],
   "source": [
    "df_data.shape"
   ]
  },
  {
   "cell_type": "code",
   "execution_count": null,
   "id": "a4dd4b16-e4c4-4d50-a62c-3c65b2beeb2c",
   "metadata": {},
   "outputs": [],
   "source": [
    "df_analysis = df_data[[\n",
    "    'TOTUSJH', \n",
    "    'TOTBSQ', \n",
    "    'TOTPOT',\n",
    "    'TOTUSJZ', \n",
    "    'ABSNJZH', \n",
    "    'SAVNCPP', \n",
    "    'USFLUX', \n",
    "    'TOTFZ', \n",
    "    'EPSZ', \n",
    "    'MEANSHR', \n",
    "    'SHRGT45', \n",
    "    'MEANGAM', \n",
    "    'MEANGBT',\n",
    "    'MEANGBZ',\n",
    "    'R_VALUE',\n",
    "    'HC_ANGLE',\n",
    "    'y'\n",
    "]]"
   ]
  },
  {
   "cell_type": "code",
   "execution_count": 15,
   "id": "75eb0c18-5230-4844-bec4-da9e3c9fa883",
   "metadata": {},
   "outputs": [],
   "source": [
    "df_data.to_csv('data.csv')\n",
    "# os.remove('combine.csv')"
   ]
  },
  {
   "cell_type": "code",
   "execution_count": null,
   "id": "462f83f8-7e1c-4c3e-bd98-ed4325e4b13f",
   "metadata": {},
   "outputs": [],
   "source": []
  }
 ],
 "metadata": {
  "kernelspec": {
   "display_name": "Python 3 (ipykernel)",
   "language": "python",
   "name": "python3"
  },
  "language_info": {
   "codemirror_mode": {
    "name": "ipython",
    "version": 3
   },
   "file_extension": ".py",
   "mimetype": "text/x-python",
   "name": "python",
   "nbconvert_exporter": "python",
   "pygments_lexer": "ipython3",
   "version": "3.11.7"
  }
 },
 "nbformat": 4,
 "nbformat_minor": 5
}
