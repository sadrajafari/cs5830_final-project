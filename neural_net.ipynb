{
 "cells": [
  {
   "cell_type": "code",
   "execution_count": 98,
   "metadata": {},
   "outputs": [],
   "source": [
    "import pandas as pd\n",
    "import pickle\n",
    "from keras import Sequential\n",
    "from keras.layers import LSTM, SimpleRNN, GRU, Dense\n",
    "from keras.losses import SparseCategoricalCrossentropy\n",
    "from keras.callbacks import EarlyStopping\n",
    "import numpy as np\n",
    "from sklearn.metrics import ConfusionMatrixDisplay\n",
    "import os\n",
    "from sklearn.metrics import precision_recall_fscore_support"
   ]
  },
  {
   "cell_type": "markdown",
   "metadata": {},
   "source": [
    "## Goal\n",
    "\n",
    "Given the past day of data, predict the largest flare in the next day. In the file `dataWrangling.py`, we read, parse, and split data into training and testing sets."
   ]
  },
  {
   "cell_type": "code",
   "execution_count": 99,
   "metadata": {},
   "outputs": [],
   "source": [
    "def loadPickledFile(fileName):\n",
    "    bytes_in = bytearray(0)\n",
    "    max_bytes = 2**31 - 1\n",
    "    input_size = os.path.getsize(fileName)\n",
    "    with open(fileName, 'rb') as file:\n",
    "        for _ in range(0, input_size, max_bytes):\n",
    "            bytes_in += file.read(max_bytes)\n",
    "        obj = pickle.loads(bytes_in)\n",
    "        file.close()\n",
    "    return obj"
   ]
  },
  {
   "cell_type": "code",
   "execution_count": 100,
   "metadata": {},
   "outputs": [
    {
     "ename": "KeyboardInterrupt",
     "evalue": "",
     "output_type": "error",
     "traceback": [
      "\u001b[1;31m---------------------------------------------------------------------------\u001b[0m",
      "\u001b[1;31mKeyboardInterrupt\u001b[0m                         Traceback (most recent call last)",
      "\u001b[1;32mc:\\Users\\drewz\\School_Stuff\\Spring_2024\\Data_Science_In_Practice\\Homework\\Final\\neural_net.ipynb Cell 4\u001b[0m line \u001b[0;36m6\n\u001b[0;32m      <a href='vscode-notebook-cell:/c%3A/Users/drewz/School_Stuff/Spring_2024/Data_Science_In_Practice/Homework/Final/neural_net.ipynb#W3sZmlsZQ%3D%3D?line=0'>1</a>\u001b[0m \u001b[39m# X_train = loadPickledFile(\"timeseries_encoded/X_train.pck\")\u001b[39;00m\n\u001b[0;32m      <a href='vscode-notebook-cell:/c%3A/Users/drewz/School_Stuff/Spring_2024/Data_Science_In_Practice/Homework/Final/neural_net.ipynb#W3sZmlsZQ%3D%3D?line=1'>2</a>\u001b[0m \u001b[39m# X_test = loadPickledFile(\"timeseries_encoded/X_test.pck\")\u001b[39;00m\n\u001b[0;32m      <a href='vscode-notebook-cell:/c%3A/Users/drewz/School_Stuff/Spring_2024/Data_Science_In_Practice/Homework/Final/neural_net.ipynb#W3sZmlsZQ%3D%3D?line=2'>3</a>\u001b[0m \u001b[39m# y_train = loadPickledFile(\"timeseries_encoded/y_train.pck\")\u001b[39;00m\n\u001b[0;32m      <a href='vscode-notebook-cell:/c%3A/Users/drewz/School_Stuff/Spring_2024/Data_Science_In_Practice/Homework/Final/neural_net.ipynb#W3sZmlsZQ%3D%3D?line=3'>4</a>\u001b[0m \u001b[39m# y_test = loadPickledFile(\"timeseries_encoded/y_test.pck\")\u001b[39;00m\n\u001b[1;32m----> <a href='vscode-notebook-cell:/c%3A/Users/drewz/School_Stuff/Spring_2024/Data_Science_In_Practice/Homework/Final/neural_net.ipynb#W3sZmlsZQ%3D%3D?line=5'>6</a>\u001b[0m X_train \u001b[39m=\u001b[39m loadPickledFile(\u001b[39m\"\u001b[39;49m\u001b[39mtimeseries/X_train.pck\u001b[39;49m\u001b[39m\"\u001b[39;49m)\n\u001b[0;32m      <a href='vscode-notebook-cell:/c%3A/Users/drewz/School_Stuff/Spring_2024/Data_Science_In_Practice/Homework/Final/neural_net.ipynb#W3sZmlsZQ%3D%3D?line=6'>7</a>\u001b[0m X_test \u001b[39m=\u001b[39m loadPickledFile(\u001b[39m\"\u001b[39m\u001b[39mtimeseries/X_test.pck\u001b[39m\u001b[39m\"\u001b[39m)\n\u001b[0;32m      <a href='vscode-notebook-cell:/c%3A/Users/drewz/School_Stuff/Spring_2024/Data_Science_In_Practice/Homework/Final/neural_net.ipynb#W3sZmlsZQ%3D%3D?line=7'>8</a>\u001b[0m y_train \u001b[39m=\u001b[39m loadPickledFile(\u001b[39m\"\u001b[39m\u001b[39mtimeseries/y_train.pck\u001b[39m\u001b[39m\"\u001b[39m)\n",
      "\u001b[1;32mc:\\Users\\drewz\\School_Stuff\\Spring_2024\\Data_Science_In_Practice\\Homework\\Final\\neural_net.ipynb Cell 4\u001b[0m line \u001b[0;36m7\n\u001b[0;32m      <a href='vscode-notebook-cell:/c%3A/Users/drewz/School_Stuff/Spring_2024/Data_Science_In_Practice/Homework/Final/neural_net.ipynb#W3sZmlsZQ%3D%3D?line=4'>5</a>\u001b[0m \u001b[39mwith\u001b[39;00m \u001b[39mopen\u001b[39m(fileName, \u001b[39m'\u001b[39m\u001b[39mrb\u001b[39m\u001b[39m'\u001b[39m) \u001b[39mas\u001b[39;00m file:\n\u001b[0;32m      <a href='vscode-notebook-cell:/c%3A/Users/drewz/School_Stuff/Spring_2024/Data_Science_In_Practice/Homework/Final/neural_net.ipynb#W3sZmlsZQ%3D%3D?line=5'>6</a>\u001b[0m     \u001b[39mfor\u001b[39;00m _ \u001b[39min\u001b[39;00m \u001b[39mrange\u001b[39m(\u001b[39m0\u001b[39m, input_size, max_bytes):\n\u001b[1;32m----> <a href='vscode-notebook-cell:/c%3A/Users/drewz/School_Stuff/Spring_2024/Data_Science_In_Practice/Homework/Final/neural_net.ipynb#W3sZmlsZQ%3D%3D?line=6'>7</a>\u001b[0m         bytes_in \u001b[39m+\u001b[39m\u001b[39m=\u001b[39m file\u001b[39m.\u001b[39;49mread(max_bytes)\n\u001b[0;32m      <a href='vscode-notebook-cell:/c%3A/Users/drewz/School_Stuff/Spring_2024/Data_Science_In_Practice/Homework/Final/neural_net.ipynb#W3sZmlsZQ%3D%3D?line=7'>8</a>\u001b[0m     obj \u001b[39m=\u001b[39m pickle\u001b[39m.\u001b[39mloads(bytes_in)\n\u001b[0;32m      <a href='vscode-notebook-cell:/c%3A/Users/drewz/School_Stuff/Spring_2024/Data_Science_In_Practice/Homework/Final/neural_net.ipynb#W3sZmlsZQ%3D%3D?line=8'>9</a>\u001b[0m     file\u001b[39m.\u001b[39mclose()\n",
      "\u001b[1;31mKeyboardInterrupt\u001b[0m: "
     ]
    }
   ],
   "source": [
    "# X_train = loadPickledFile(\"timeseries_encoded/X_train.pck\")\n",
    "# X_test = loadPickledFile(\"timeseries_encoded/X_test.pck\")\n",
    "# y_train = loadPickledFile(\"timeseries_encoded/y_train.pck\")\n",
    "# y_test = loadPickledFile(\"timeseries_encoded/y_test.pck\")\n",
    "\n",
    "X_train = loadPickledFile(\"timeseries/X_train.pck\")\n",
    "X_test = loadPickledFile(\"timeseries/X_test.pck\")\n",
    "y_train = loadPickledFile(\"timeseries/y_train.pck\")\n",
    "y_test = loadPickledFile(\"timeseries/y_test.pck\")"
   ]
  },
  {
   "cell_type": "code",
   "execution_count": null,
   "metadata": {},
   "outputs": [
    {
     "data": {
      "text/plain": [
       "(343131, 1, 1)"
      ]
     },
     "execution_count": 89,
     "metadata": {},
     "output_type": "execute_result"
    }
   ],
   "source": [
    "y_train.shape"
   ]
  },
  {
   "cell_type": "code",
   "execution_count": null,
   "metadata": {},
   "outputs": [
    {
     "name": "stdout",
     "output_type": "stream",
     "text": [
      "Model: \"sequential_8\"\n",
      "_________________________________________________________________\n",
      " Layer (type)                Output Shape              Param #   \n",
      "=================================================================\n",
      " dense_16 (Dense)            (None, 120, 6)            42        \n",
      "                                                                 \n",
      " lstm_8 (LSTM)               (None, 12)                912       \n",
      "                                                                 \n",
      " dense_17 (Dense)            (None, 5)                 65        \n",
      "                                                                 \n",
      "=================================================================\n",
      "Total params: 1019 (3.98 KB)\n",
      "Trainable params: 1019 (3.98 KB)\n",
      "Non-trainable params: 0 (0.00 Byte)\n",
      "_________________________________________________________________\n"
     ]
    }
   ],
   "source": [
    "num_features = X_train[0].shape[1]\n",
    "num_classes = 5\n",
    "model = Sequential()\n",
    "# Input Layer\n",
    "# model.add(Dense(num_features, input_shape=(dataPointsPerX, num_features),activation='relu'))\n",
    "model.add(Dense(num_features, input_shape=X_train[0].shape,activation='relu'))\n",
    "# Hidden Layers: RNN\n",
    "model.add(LSTM(units=2*num_features, return_sequences=True)) # Add return_sequences=True if you want to add more architecture\n",
    "model.add(GRU(units=2*num_features, return_sequences=True))\n",
    "model.add(SimpleRNN(units=2*num_features))\n",
    "# Output Layer\n",
    "model.add(Dense(num_classes, activation='softmax'))\n",
    "\n",
    "model.compile(optimizer='adam', loss=SparseCategoricalCrossentropy())\n",
    "model.summary()"
   ]
  },
  {
   "cell_type": "code",
   "execution_count": null,
   "metadata": {},
   "outputs": [
    {
     "data": {
      "text/plain": [
       "(1, 1)"
      ]
     },
     "metadata": {},
     "output_type": "display_data"
    },
    {
     "name": "stdout",
     "output_type": "stream",
     "text": [
      "1/1 [==============================] - 1s 950ms/step\n"
     ]
    },
    {
     "data": {
      "text/plain": [
       "(343131, 1, 1)"
      ]
     },
     "metadata": {},
     "output_type": "display_data"
    },
    {
     "data": {
      "text/plain": [
       "(343131, 120, 6)"
      ]
     },
     "metadata": {},
     "output_type": "display_data"
    }
   ],
   "source": [
    "display(y_train[0].shape)\n",
    "model.predict(np.array([X_train[0]])).shape\n",
    "\n",
    "display(y_train.shape)\n",
    "display(X_train.shape)"
   ]
  },
  {
   "cell_type": "code",
   "execution_count": null,
   "metadata": {},
   "outputs": [
    {
     "name": "stdout",
     "output_type": "stream",
     "text": [
      "Epoch 1/10\n",
      "8579/8579 [==============================] - 247s 28ms/step - loss: 0.3391 - val_loss: 0.3333\n",
      "Epoch 2/10\n",
      "8579/8579 [==============================] - 240s 28ms/step - loss: 0.3212 - val_loss: 0.3447\n",
      "Epoch 3/10\n",
      "8579/8579 [==============================] - 239s 28ms/step - loss: 0.3178 - val_loss: 0.3377\n"
     ]
    },
    {
     "data": {
      "text/plain": [
       "<keras.src.callbacks.History at 0x1ffc79fa8d0>"
      ]
     },
     "execution_count": 92,
     "metadata": {},
     "output_type": "execute_result"
    }
   ],
   "source": [
    "X_sub = X_train[0:100]\n",
    "y_sub = y_train[0:100]\n",
    "\n",
    "epochs = 25\n",
    "val_split = 0.2\n",
    "model.fit(X_train,\n",
    "          y_train,\n",
    "          validation_split=val_split,\n",
    "          epochs=epochs,\n",
    "          verbose=1,\n",
    "          callbacks=[EarlyStopping(monitor='val_loss', patience=5)],\n",
    "          shuffle=True)\n",
    "# model.fit(X_sub,\n",
    "#           y_sub,\n",
    "#           validation_split=val_split,\n",
    "#           epochs=epochs,\n",
    "#           verbose=1,\n",
    "#           callbacks=[EarlyStopping(monitor='val_loss', patience=2)],\n",
    "#           shuffle=False)"
   ]
  },
  {
   "cell_type": "code",
   "execution_count": null,
   "metadata": {},
   "outputs": [
    {
     "name": "stdout",
     "output_type": "stream",
     "text": [
      "INFO:tensorflow:Assets written to: persisted_nets/simpleLSTM\\assets\n"
     ]
    },
    {
     "name": "stderr",
     "output_type": "stream",
     "text": [
      "INFO:tensorflow:Assets written to: persisted_nets/simpleLSTM\\assets\n"
     ]
    }
   ],
   "source": [
    "modelName = \"LSTM-GRU-RNN\"\n",
    "model.save(f\"persisted_nets/{modelName}\")"
   ]
  },
  {
   "cell_type": "code",
   "execution_count": null,
   "metadata": {},
   "outputs": [
    {
     "name": "stdout",
     "output_type": "stream",
     "text": [
      "4596/4596 [==============================] - 31s 7ms/step\n",
      "Metrics for 0 class flares\n",
      "\tPrecision: 0.9228951551692038\n",
      "\tRecall:    0.984065418063265\n",
      "\tF-Score:   0.9524991963107894\n",
      "\tSupport:   130973\n",
      "Metrics for B class flares\n",
      "\tPrecision: 0.0\n",
      "\tRecall:    0.0\n",
      "\tF-Score:   0.0\n",
      "\tSupport:   2109\n",
      "Metrics for C class flares\n",
      "\tPrecision: 0.4277832791059556\n",
      "\tRecall:    0.2615916955017301\n",
      "\tF-Score:   0.324655107627892\n",
      "\tSupport:   11560\n",
      "Metrics for M class flares\n",
      "\tPrecision: 0.10256410256410256\n",
      "\tRecall:    0.016537467700258397\n",
      "\tF-Score:   0.02848242100578549\n",
      "\tSupport:   1935\n",
      "Metrics for X class flares\n",
      "\tPrecision: 0.0\n",
      "\tRecall:    0.0\n",
      "\tF-Score:   0.0\n",
      "\tSupport:   480\n"
     ]
    },
    {
     "name": "stderr",
     "output_type": "stream",
     "text": [
      "c:\\Python311\\Lib\\site-packages\\sklearn\\metrics\\_classification.py:1469: UndefinedMetricWarning: Precision and F-score are ill-defined and being set to 0.0 in labels with no predicted samples. Use `zero_division` parameter to control this behavior.\n",
      "  _warn_prf(average, modifier, msg_start, len(result))\n"
     ]
    }
   ],
   "source": [
    "classLabels = {\n",
    "    0: \"0\",\n",
    "    1: \"B\",\n",
    "    2: \"C\",\n",
    "    3: \"M\",\n",
    "    4: \"X\"\n",
    "}\n",
    "\n",
    "def threshold_output(output):\n",
    "    thresholded = []\n",
    "    for arr in output:\n",
    "        thresholded.append(np.array([np.array([np.argmax(arr)])]))\n",
    "    return np.array(thresholded)\n",
    "    \n",
    "\n",
    "y_pred = model.predict(X_test)\n",
    "y_pred = threshold_output(y_pred)\n",
    "\n",
    "p,r,f,s = precision_recall_fscore_support(y_test.flatten(), y_pred.flatten())\n",
    "\n",
    "def printMetrics(p,r,f,s):\n",
    "    for i in range(len(p)):\n",
    "        print(f\"Metrics for {classLabels[i]} class flares\")\n",
    "        print(f\"\\tPrecision: {p[i]}\")\n",
    "        print(f\"\\tRecall:    {r[i]}\")\n",
    "        print(f\"\\tF-Score:   {f[i]}\")\n",
    "        print(f\"\\tSupport:   {s[i]}\")\n",
    "\n",
    "printMetrics(p,r,f,s)\n",
    "# X_train[0]"
   ]
  },
  {
   "cell_type": "code",
   "execution_count": null,
   "metadata": {},
   "outputs": [
    {
     "data": {
      "image/png": "[encoded data removed]",
      "text/plain": [
       "<Figure size 640x480 with 2 Axes>"
      ]
     },
     "metadata": {},
     "output_type": "display_data"
    }
   ],
   "source": [
    "disp = ConfusionMatrixDisplay.from_predictions(y_test.flatten(), y_pred.flatten(), display_labels=[\"No Flare\", \"B\", \"C\", \"M\", \"X\"])"
   ]
  }
 ],
 "metadata": {
  "kernelspec": {
   "display_name": "Python 3",
   "language": "python",
   "name": "python3"
  },
  "language_info": {
   "codemirror_mode": {
    "name": "ipython",
    "version": 3
   },
   "file_extension": ".py",
   "mimetype": "text/x-python",
   "name": "python",
   "nbconvert_exporter": "python",
   "pygments_lexer": "ipython3",
   "version": "3.11.0"
  }
 },
 "nbformat": 4,
 "nbformat_minor": 2
}
