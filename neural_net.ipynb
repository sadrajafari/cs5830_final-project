{
 "cells": [
  {
   "cell_type": "code",
   "execution_count": 21,
   "metadata": {},
   "outputs": [],
   "source": [
    "import pandas as pd\n",
    "import pickle\n",
    "from keras import Sequential\n",
    "from keras.layers import LSTM, SimpleRNN, GRU, Dense\n",
    "from keras.losses import CategoricalCrossentropy\n",
    "import numpy as np\n",
    "import os\n",
    "from sklearn.metrics import precision_recall_fscore_support"
   ]
  },
  {
   "cell_type": "markdown",
   "metadata": {},
   "source": [
    "## Goal\n",
    "\n",
    "Given the past day of data, predict the largest flare in the next day. In the file `dataWrangling.py`, we read, parse, and split data into training and testing sets."
   ]
  },
  {
   "cell_type": "code",
   "execution_count": 28,
   "metadata": {},
   "outputs": [],
   "source": [
    "def loadPickledFile(fileName):\n",
    "    bytes_in = bytearray(0)\n",
    "    max_bytes = 2**31 - 1\n",
    "    input_size = os.path.getsize(fileName)\n",
    "    with open(fileName, 'rb') as file:\n",
    "        for _ in range(0, input_size, max_bytes):\n",
    "            bytes_in += file.read(max_bytes)\n",
    "        obj = pickle.loads(bytes_in)\n",
    "        file.close()\n",
    "    return obj"
   ]
  },
  {
   "cell_type": "code",
   "execution_count": 29,
   "metadata": {},
   "outputs": [],
   "source": [
    "X_train = loadPickledFile(\"timeseries/X_train.pck\")\n",
    "X_test = loadPickledFile(\"timeseries/X_test.pck\")\n",
    "y_train = loadPickledFile(\"timeseries/y_train.pck\")\n",
    "y_test = loadPickledFile(\"timeseries/y_test.pck\")"
   ]
  },
  {
   "cell_type": "code",
   "execution_count": 32,
   "metadata": {},
   "outputs": [
    {
     "name": "stdout",
     "output_type": "stream",
     "text": [
      "Model: \"sequential_2\"\n",
      "_________________________________________________________________\n",
      " Layer (type)                Output Shape              Param #   \n",
      "=================================================================\n",
      " dense_4 (Dense)             (None, 120, 6)            42        \n",
      "                                                                 \n",
      " lstm_2 (LSTM)               (None, 12)                912       \n",
      "                                                                 \n",
      " dense_5 (Dense)             (None, 1)                 13        \n",
      "                                                                 \n",
      "=================================================================\n",
      "Total params: 967 (3.78 KB)\n",
      "Trainable params: 967 (3.78 KB)\n",
      "Non-trainable params: 0 (0.00 Byte)\n",
      "_________________________________________________________________\n"
     ]
    }
   ],
   "source": [
    "num_features = X_train[0].shape[1]\n",
    "model = Sequential()\n",
    "# Input Layer\n",
    "# model.add(Dense(num_features, input_shape=(dataPointsPerX, num_features),activation='relu'))\n",
    "model.add(Dense(num_features, input_shape=X_train[0].shape,activation='relu'))\n",
    "# Hidden Layers: RNN\n",
    "model.add(LSTM(units=2*num_features)) # Add return_sequences=True if you want to add more architecture\n",
    "# Output Layer\n",
    "model.add(Dense(1, activation='relu'))\n",
    "\n",
    "# model.compile(optimizer=\"adam\", loss=CategoricalCrossentropy())\n",
    "model.compile(optimizer='adam', loss='mse')\n",
    "model.summary()"
   ]
  },
  {
   "cell_type": "code",
   "execution_count": 33,
   "metadata": {},
   "outputs": [
    {
     "name": "stdout",
     "output_type": "stream",
     "text": [
      "Epoch 1/25\n",
      "4/4 [==============================] - 11s 168ms/step - loss: 0.0000e+00\n",
      "Epoch 2/25\n",
      "4/4 [==============================] - 0s 22ms/step - loss: 0.0000e+00\n",
      "Epoch 3/25\n",
      "4/4 [==============================] - 0s 22ms/step - loss: 0.0000e+00\n",
      "Epoch 4/25\n",
      "4/4 [==============================] - 0s 21ms/step - loss: 0.0000e+00\n",
      "Epoch 5/25\n",
      "4/4 [==============================] - 0s 23ms/step - loss: 0.0000e+00\n",
      "Epoch 6/25\n",
      "4/4 [==============================] - 0s 24ms/step - loss: 0.0000e+00\n",
      "Epoch 7/25\n",
      "4/4 [==============================] - 0s 27ms/step - loss: 0.0000e+00\n",
      "Epoch 8/25\n",
      "4/4 [==============================] - 0s 36ms/step - loss: 0.0000e+00\n",
      "Epoch 9/25\n",
      "4/4 [==============================] - 0s 26ms/step - loss: 0.0000e+00\n",
      "Epoch 10/25\n",
      "4/4 [==============================] - 0s 25ms/step - loss: 0.0000e+00\n",
      "Epoch 11/25\n",
      "4/4 [==============================] - 0s 26ms/step - loss: 0.0000e+00\n",
      "Epoch 12/25\n",
      "4/4 [==============================] - 0s 27ms/step - loss: 0.0000e+00\n",
      "Epoch 13/25\n",
      "4/4 [==============================] - 0s 26ms/step - loss: 0.0000e+00\n",
      "Epoch 14/25\n",
      "4/4 [==============================] - 0s 27ms/step - loss: 0.0000e+00\n",
      "Epoch 15/25\n",
      "4/4 [==============================] - 0s 28ms/step - loss: 0.0000e+00\n",
      "Epoch 16/25\n",
      "4/4 [==============================] - 0s 28ms/step - loss: 0.0000e+00\n",
      "Epoch 17/25\n",
      "4/4 [==============================] - 0s 26ms/step - loss: 0.0000e+00\n",
      "Epoch 18/25\n",
      "4/4 [==============================] - 0s 26ms/step - loss: 0.0000e+00\n",
      "Epoch 19/25\n",
      "4/4 [==============================] - 0s 27ms/step - loss: 0.0000e+00\n",
      "Epoch 20/25\n",
      "4/4 [==============================] - 0s 28ms/step - loss: 0.0000e+00\n",
      "Epoch 21/25\n",
      "4/4 [==============================] - 0s 30ms/step - loss: 0.0000e+00\n",
      "Epoch 22/25\n",
      "4/4 [==============================] - 0s 27ms/step - loss: 0.0000e+00\n",
      "Epoch 23/25\n",
      "4/4 [==============================] - 0s 29ms/step - loss: 0.0000e+00\n",
      "Epoch 24/25\n",
      "4/4 [==============================] - 0s 29ms/step - loss: 0.0000e+00\n",
      "Epoch 25/25\n",
      "4/4 [==============================] - 0s 30ms/step - loss: 0.0000e+00\n"
     ]
    },
    {
     "data": {
      "text/plain": [
       "<keras.src.callbacks.History at 0x27365b29e10>"
      ]
     },
     "execution_count": 33,
     "metadata": {},
     "output_type": "execute_result"
    }
   ],
   "source": [
    "epochs = 25\n",
    "model.fit(X_train,\n",
    "          y_train,\n",
    "          epochs=epochs,\n",
    "          verbose=1,\n",
    "          shuffle=False)"
   ]
  },
  {
   "cell_type": "code",
   "execution_count": 17,
   "metadata": {},
   "outputs": [
    {
     "name": "stdout",
     "output_type": "stream",
     "text": [
      "34/34 [==============================] - 1s 4ms/step\n",
      "Metrics for 0 class flares\n",
      "\tPrecision: 0.24953617810760667\n",
      "\tRecall:    1.0\n",
      "\tF-Score:   0.3994060876020787\n",
      "\tSupport:   269\n",
      "Metrics for B class flares\n",
      "\tPrecision: 0.0\n",
      "\tRecall:    0.0\n",
      "\tF-Score:   0.0\n",
      "\tSupport:   274\n",
      "Metrics for C class flares\n",
      "\tPrecision: 0.0\n",
      "\tRecall:    0.0\n",
      "\tF-Score:   0.0\n",
      "\tSupport:   271\n",
      "Metrics for M class flares\n",
      "\tPrecision: 0.0\n",
      "\tRecall:    0.0\n",
      "\tF-Score:   0.0\n",
      "\tSupport:   264\n"
     ]
    },
    {
     "name": "stderr",
     "output_type": "stream",
     "text": [
      "c:\\Python311\\Lib\\site-packages\\sklearn\\metrics\\_classification.py:1469: UndefinedMetricWarning: Precision and F-score are ill-defined and being set to 0.0 in labels with no predicted samples. Use `zero_division` parameter to control this behavior.\n",
      "  _warn_prf(average, modifier, msg_start, len(result))\n"
     ]
    }
   ],
   "source": [
    "classLabels = {\n",
    "    0: \"0\",\n",
    "    1: \"B\",\n",
    "    2: \"C\",\n",
    "    3: \"M\",\n",
    "    4: \"X\"\n",
    "}\n",
    "\n",
    "def threshold_output(output):\n",
    "    thresholded = []\n",
    "    for val in output:\n",
    "        if val < 1:\n",
    "            thresholded.append(0)\n",
    "        elif val < 2:\n",
    "            thresholded.append(1)\n",
    "        elif val < 3:\n",
    "            thresholded.append(2)\n",
    "        else:\n",
    "            thresholded.append(3)\n",
    "    return np.array(thresholded)\n",
    "    \n",
    "\n",
    "y_pred = model.predict(X_test)\n",
    "y_pred = threshold_output(y_pred)\n",
    "\n",
    "p,r,f,s = precision_recall_fscore_support(y_test, y_pred)\n",
    "\n",
    "def printMetrics(p,r,f,s):\n",
    "    for i in range(len(p)):\n",
    "        print(f\"Metrics for {classLabels[i]} class flares\")\n",
    "        print(f\"\\tPrecision: {p[i]}\")\n",
    "        print(f\"\\tRecall:    {r[i]}\")\n",
    "        print(f\"\\tF-Score:   {f[i]}\")\n",
    "        print(f\"\\tSupport:   {s[i]}\")\n",
    "\n",
    "printMetrics(p,r,f,s)\n",
    "# X_train[0]"
   ]
  }
 ],
 "metadata": {
  "kernelspec": {
   "display_name": "Python 3",
   "language": "python",
   "name": "python3"
  },
  "language_info": {
   "codemirror_mode": {
    "name": "ipython",
    "version": 3
   },
   "file_extension": ".py",
   "mimetype": "text/x-python",
   "name": "python",
   "nbconvert_exporter": "python",
   "pygments_lexer": "ipython3",
   "version": "3.11.0"
  }
 },
 "nbformat": 4,
 "nbformat_minor": 2
}
