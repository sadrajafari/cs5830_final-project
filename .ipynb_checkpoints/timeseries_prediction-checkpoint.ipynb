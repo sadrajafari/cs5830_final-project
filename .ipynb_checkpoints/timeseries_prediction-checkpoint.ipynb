{
 "cells": [
  {
   "cell_type": "markdown",
   "metadata": {},
   "source": [
    "# Timeseries Forecasting of Solar Flares using LSTM"
   ]
  },
  {
   "cell_type": "code",
   "execution_count": 41,
   "metadata": {},
   "outputs": [],
   "source": [
    "import pandas as pd\n",
    "import pickle\n",
    "from keras.models import load_model\n",
    "from keras import Sequential\n",
    "from keras.layers import LSTM, SimpleRNN, GRU, Dense\n",
    "from keras.losses import SparseCategoricalCrossentropy\n",
    "from keras.callbacks import EarlyStopping\n",
    "import numpy as np\n",
    "from sklearn.metrics import ConfusionMatrixDisplay\n",
    "import os\n",
    "from sklearn.metrics import precision_recall_fscore_support"
   ]
  },
  {
   "cell_type": "code",
   "execution_count": 42,
   "metadata": {},
   "outputs": [],
   "source": [
    "def loadPickledFile(fileName):\n",
    "    bytes_in = bytearray(0)\n",
    "    max_bytes = 2**31 - 1\n",
    "    input_size = os.path.getsize(fileName)\n",
    "    with open(fileName, 'rb') as file:\n",
    "        for _ in range(0, input_size, max_bytes):\n",
    "            bytes_in += file.read(max_bytes)\n",
    "        obj = pickle.loads(bytes_in)\n",
    "        file.close()\n",
    "    return obj"
   ]
  },
  {
   "cell_type": "markdown",
   "metadata": {},
   "source": [
    "## Data Cleaning\n",
    "\n",
    "As shown in analysisAndVisualization, there are 6 magnetic field parameters which are highly correlated with flare type. These 6 are the features we will use for the LSTM. The LSTM model will take in 24 hours of past magnetic field data, and predict what the most severe solar flare in the next hour will be. The data contains a major class imbalance, so we created a new dataset with more balanced classes in order to prevent overfitting. We will train on the balanced data, then test on the real data. The code for creation of this balanced dataset can be found in `create_balanced_datasets.py`. "
   ]
  },
  {
   "cell_type": "code",
   "execution_count": 43,
   "metadata": {},
   "outputs": [],
   "source": [
    "X_train = loadPickledFile(\"balanced_data/X_train.pck\")\n",
    "X_test = loadPickledFile(\"balanced_data/X_test.pck\")\n",
    "y_train = loadPickledFile(\"balanced_data/y_train.pck\")\n",
    "y_test = loadPickledFile(\"balanced_data/y_test.pck\")"
   ]
  },
  {
   "cell_type": "markdown",
   "metadata": {},
   "source": [
    "## Create Neural Net\n",
    "\n",
    "Recurrent Neural Networks such as the LSTM are well-suited for timeseries forecasting, so our model will just be a simple LSTM. This is a multi-class classification problem, so categorical cross entropy is the most suitable loss function, and the softmax function is the most suitable activation function for the output layer."
   ]
  },
  {
   "cell_type": "code",
   "execution_count": 46,
   "metadata": {},
   "outputs": [
    {
     "name": "stdout",
     "output_type": "stream",
     "text": [
      "Model: \"sequential_12\"\n",
      "_________________________________________________________________\n",
      " Layer (type)                Output Shape              Param #   \n",
      "=================================================================\n",
      " dense_36 (Dense)            (None, 120, 6)            42        \n",
      "                                                                 \n",
      " lstm_11 (LSTM)              (None, 120)               60960     \n",
      "                                                                 \n",
      " dense_37 (Dense)            (None, 5)                 605       \n",
      "                                                                 \n",
      "=================================================================\n",
      "Total params: 61607 (240.65 KB)\n",
      "Trainable params: 61607 (240.65 KB)\n",
      "Non-trainable params: 0 (0.00 Byte)\n",
      "_________________________________________________________________\n"
     ]
    }
   ],
   "source": [
    "num_features = X_train[0].shape[1]\n",
    "num_classes = 5\n",
    "model = Sequential()\n",
    "# Input Layer\n",
    "model.add(Dense(num_features, input_shape=X_train[0].shape,activation='relu'))\n",
    "# Hidden Layers: RNN\n",
    "model.add(LSTM(units=20*num_features)) # Add return_sequences=True if you want to add more architecture\n",
    "# model.add(GRU(units=2*num_features, return_sequences=True))\n",
    "# model.add(SimpleRNN(units=2*num_features))\n",
    "# Output Layer\n",
    "model.add(Dense(num_classes, activation='softmax'))\n",
    "\n",
    "model.compile(optimizer='adam', loss=SparseCategoricalCrossentropy())\n",
    "model.summary()"
   ]
  },
  {
   "cell_type": "markdown",
   "metadata": {},
   "source": [
    "## Training\n",
    "\n",
    "We will reserve 20% of the training data for validation, and train the network. If the validation loss stops improving, we will stop training so the model does not overfit. "
   ]
  },
  {
   "cell_type": "code",
   "execution_count": 47,
   "metadata": {},
   "outputs": [
    {
     "name": "stdout",
     "output_type": "stream",
     "text": [
      "Epoch 1/100\n",
      "235/235 [==============================] - 20s 75ms/step - loss: 1.0107 - val_loss: 0.9381\n",
      "Epoch 2/100\n",
      "235/235 [==============================] - 17s 73ms/step - loss: 0.9521 - val_loss: 0.9356\n",
      "Epoch 3/100\n",
      "235/235 [==============================] - 19s 79ms/step - loss: 0.9428 - val_loss: 0.9262\n",
      "Epoch 4/100\n",
      "235/235 [==============================] - 19s 79ms/step - loss: 0.9297 - val_loss: 0.9261\n",
      "Epoch 5/100\n",
      "235/235 [==============================] - 18s 77ms/step - loss: 0.9213 - val_loss: 0.9244\n",
      "Epoch 6/100\n",
      "235/235 [==============================] - 19s 81ms/step - loss: 0.9150 - val_loss: 0.9212\n",
      "Epoch 7/100\n",
      "235/235 [==============================] - 17s 73ms/step - loss: 0.9115 - val_loss: 0.9045\n",
      "Epoch 8/100\n",
      "235/235 [==============================] - 21s 88ms/step - loss: 0.9058 - val_loss: 0.8955\n",
      "Epoch 9/100\n",
      "235/235 [==============================] - 19s 79ms/step - loss: 0.9042 - val_loss: 0.8947\n",
      "Epoch 10/100\n",
      "235/235 [==============================] - 18s 75ms/step - loss: 0.8970 - val_loss: 0.8866\n",
      "Epoch 11/100\n",
      "235/235 [==============================] - 19s 83ms/step - loss: 0.8925 - val_loss: 0.8932\n",
      "Epoch 12/100\n",
      "235/235 [==============================] - 18s 78ms/step - loss: 0.8914 - val_loss: 0.9031\n",
      "Epoch 13/100\n",
      "235/235 [==============================] - 17s 73ms/step - loss: 0.8894 - val_loss: 0.8893\n",
      "Epoch 14/100\n",
      "235/235 [==============================] - 17s 74ms/step - loss: 0.8890 - val_loss: 0.8847\n",
      "Epoch 15/100\n",
      "235/235 [==============================] - 19s 82ms/step - loss: 0.8821 - val_loss: 0.8944\n",
      "Epoch 16/100\n",
      "235/235 [==============================] - 17s 72ms/step - loss: 0.9087 - val_loss: 0.8971\n",
      "Epoch 17/100\n",
      "235/235 [==============================] - 17s 72ms/step - loss: 0.8907 - val_loss: 0.8982\n",
      "Epoch 18/100\n",
      "235/235 [==============================] - 17s 73ms/step - loss: 0.8826 - val_loss: 0.8768\n",
      "Epoch 19/100\n",
      "235/235 [==============================] - 17s 71ms/step - loss: 0.8836 - val_loss: 0.8944\n",
      "Epoch 20/100\n",
      "235/235 [==============================] - 17s 72ms/step - loss: 0.8802 - val_loss: 0.8733\n",
      "Epoch 21/100\n",
      "235/235 [==============================] - 17s 72ms/step - loss: 0.8759 - val_loss: 0.8805\n",
      "Epoch 22/100\n",
      "235/235 [==============================] - 17s 72ms/step - loss: 0.8724 - val_loss: 0.9175\n",
      "Epoch 23/100\n",
      "235/235 [==============================] - 17s 72ms/step - loss: 0.8760 - val_loss: 0.8697\n",
      "Epoch 24/100\n",
      "235/235 [==============================] - 17s 71ms/step - loss: 0.8746 - val_loss: 0.8734\n",
      "Epoch 25/100\n",
      "235/235 [==============================] - 17s 72ms/step - loss: 0.8646 - val_loss: 0.8775\n",
      "Epoch 26/100\n",
      "235/235 [==============================] - 17s 72ms/step - loss: 0.8632 - val_loss: 0.8811\n",
      "Epoch 27/100\n",
      "235/235 [==============================] - 17s 71ms/step - loss: 0.8595 - val_loss: 0.8754\n",
      "Epoch 28/100\n",
      "235/235 [==============================] - 18s 75ms/step - loss: 0.8575 - val_loss: 0.8739\n"
     ]
    },
    {
     "data": {
      "text/plain": [
       "<keras.src.callbacks.History at 0x25ea8dd88d0>"
      ]
     },
     "execution_count": 47,
     "metadata": {},
     "output_type": "execute_result"
    }
   ],
   "source": [
    "epochs = 100\n",
    "val_split = 0.2\n",
    "model.fit(X_train,\n",
    "          y_train,\n",
    "          validation_split=val_split,\n",
    "          epochs=epochs,\n",
    "          verbose=1,\n",
    "          callbacks=[EarlyStopping(monitor='val_loss', patience=5)],\n",
    "          shuffle=True)"
   ]
  },
  {
   "cell_type": "markdown",
   "metadata": {},
   "source": [
    "## Persisting Model\n",
    "\n",
    "Next, we persist the model so it can be used later."
   ]
  },
  {
   "cell_type": "code",
   "execution_count": 48,
   "metadata": {},
   "outputs": [
    {
     "name": "stdout",
     "output_type": "stream",
     "text": [
      "INFO:tensorflow:Assets written to: persisted_nets/lstm-balanced\\assets\n"
     ]
    },
    {
     "name": "stderr",
     "output_type": "stream",
     "text": [
      "INFO:tensorflow:Assets written to: persisted_nets/lstm-balanced\\assets\n"
     ]
    }
   ],
   "source": [
    "modelName = \"lstm-balanced\"\n",
    "model.save(f\"persisted_nets/{modelName}\")"
   ]
  },
  {
   "cell_type": "markdown",
   "metadata": {},
   "source": [
    "## Loading and Evaluating Model\n",
    "\n",
    "Now, we can load the model back in from the file, and evaluate it. First, we will evaluate it on the balanced dataset. Then, we can evaluate it on real timeseries data. "
   ]
  },
  {
   "cell_type": "code",
   "execution_count": 50,
   "metadata": {},
   "outputs": [],
   "source": [
    "model = load_model(f\"persisted_nets/{modelName}\")"
   ]
  },
  {
   "cell_type": "code",
   "execution_count": 53,
   "metadata": {},
   "outputs": [],
   "source": [
    "classLabels = {\n",
    "    0: \"0\",\n",
    "    1: \"B\",\n",
    "    2: \"C\",\n",
    "    3: \"M\",\n",
    "    4: \"X\"\n",
    "}\n",
    "\n",
    "def threshold_output(output):\n",
    "    thresholded = []\n",
    "    for arr in output:\n",
    "        thresholded.append(np.array([np.array([np.argmax(arr)])]))\n",
    "    return np.array(thresholded)\n",
    "    \n",
    "def printMetrics(p,r,f,s):\n",
    "    for i in range(len(p)):\n",
    "        print(f\"Metrics for {classLabels[i]} class flares\")\n",
    "        print(f\"\\tPrecision: {p[i]}\")\n",
    "        print(f\"\\tRecall:    {r[i]}\")\n",
    "        print(f\"\\tF-Score:   {f[i]}\")\n",
    "        print(f\"\\tSupport:   {s[i]}\")\n",
    "\n",
    "def evaluate_model(model,X_test,y_test):\n",
    "    y_pred = model.predict(X_test)\n",
    "    y_pred = threshold_output(y_pred)\n",
    "\n",
    "    p,r,f,s = precision_recall_fscore_support(y_test.flatten(), y_pred.flatten())\n",
    "\n",
    "    printMetrics(p,r,f,s)\n",
    "    \n",
    "    disp = ConfusionMatrixDisplay.from_predictions(y_test.flatten(), y_pred.flatten(), display_labels=[\"No Flare\",\"B\", \"C\", \"M\", \"X\"])"
   ]
  },
  {
   "cell_type": "code",
   "execution_count": 54,
   "metadata": {},
   "outputs": [
    {
     "name": "stdout",
     "output_type": "stream",
     "text": [
      "126/126 [==============================] - 3s 20ms/step\n",
      "Metrics for 0 class flares\n",
      "\tPrecision: 0.853125\n",
      "\tRecall:    0.6319444444444444\n",
      "\tF-Score:   0.7260638297872339\n",
      "\tSupport:   432\n",
      "Metrics for B class flares\n",
      "\tPrecision: 0.49903846153846154\n",
      "\tRecall:    0.5766666666666667\n",
      "\tF-Score:   0.5350515463917526\n",
      "\tSupport:   900\n",
      "Metrics for C class flares\n",
      "\tPrecision: 0.6565074135090609\n",
      "\tRecall:    0.776803118908382\n",
      "\tF-Score:   0.7116071428571428\n",
      "\tSupport:   2052\n",
      "Metrics for M class flares\n",
      "\tPrecision: 0.6495726495726496\n",
      "\tRecall:    0.25675675675675674\n",
      "\tF-Score:   0.36803874092009686\n",
      "\tSupport:   592\n",
      "Metrics for X class flares\n",
      "\tPrecision: 0.0\n",
      "\tRecall:    0.0\n",
      "\tF-Score:   0.0\n",
      "\tSupport:   46\n"
     ]
    },
    {
     "name": "stderr",
     "output_type": "stream",
     "text": [
      "c:\\Python311\\Lib\\site-packages\\sklearn\\metrics\\_classification.py:1469: UndefinedMetricWarning: Precision and F-score are ill-defined and being set to 0.0 in labels with no predicted samples. Use `zero_division` parameter to control this behavior.\n",
      "  _warn_prf(average, modifier, msg_start, len(result))\n"
     ]
    },
    {
     "data": {
      "image/png": "[encoded data removed]",
      "text/plain": [
       "<Figure size 640x480 with 2 Axes>"
      ]
     },
     "metadata": {},
     "output_type": "display_data"
    }
   ],
   "source": [
    "evaluate_model(model, X_test, y_test)"
   ]
  },
  {
   "cell_type": "markdown",
   "metadata": {},
   "source": [
    "As shown in the metrics and confusion matrix above, the model has a difficult time predicting X-class flares. This is likely because the number of X-class flares is small. In the future, we can improve the prediction of X-class flares by using a more deep, sophisticated model."
   ]
  },
  {
   "cell_type": "markdown",
   "metadata": {},
   "source": [
    "## Evaluation of the Model on Unbalanced Data\n",
    "\n",
    "Real solar flare data is **very** unbalanced, so we need to see how our model performs on the real, unbalanced data. The data used for this evaluation is just data from the year 2014, transformed into a format which the LSTM can take. Creation of this dataset is done in `create_LSTM_datasets.py`"
   ]
  },
  {
   "cell_type": "code",
   "execution_count": 55,
   "metadata": {},
   "outputs": [],
   "source": [
    "X_train = loadPickledFile(\"timeseries/X_train.pck\")\n",
    "X_test = loadPickledFile(\"timeseries/X_test.pck\")\n",
    "y_train = loadPickledFile(\"timeseries/y_train.pck\")\n",
    "y_test = loadPickledFile(\"timeseries/y_test.pck\")"
   ]
  },
  {
   "cell_type": "code",
   "execution_count": 56,
   "metadata": {},
   "outputs": [
    {
     "name": "stdout",
     "output_type": "stream",
     "text": [
      "4596/4596 [==============================] - 104s 23ms/step\n"
     ]
    },
    {
     "name": "stderr",
     "output_type": "stream",
     "text": [
      "c:\\Python311\\Lib\\site-packages\\sklearn\\metrics\\_classification.py:1469: UndefinedMetricWarning: Precision and F-score are ill-defined and being set to 0.0 in labels with no predicted samples. Use `zero_division` parameter to control this behavior.\n",
      "  _warn_prf(average, modifier, msg_start, len(result))\n"
     ]
    },
    {
     "name": "stdout",
     "output_type": "stream",
     "text": [
      "Metrics for 0 class flares\n",
      "\tPrecision: 0.9959199252425012\n",
      "\tRecall:    0.5777450314186894\n",
      "\tF-Score:   0.7312710193668096\n",
      "\tSupport:   130973\n",
      "Metrics for B class flares\n",
      "\tPrecision: 0.026728110599078342\n",
      "\tRecall:    0.6187766714082503\n",
      "\tF-Score:   0.051242784780303925\n",
      "\tSupport:   2109\n",
      "Metrics for C class flares\n",
      "\tPrecision: 0.3355443403028118\n",
      "\tRecall:    0.6038927335640139\n",
      "\tF-Score:   0.431391935733045\n",
      "\tSupport:   11560\n",
      "Metrics for M class flares\n",
      "\tPrecision: 0.5290055248618785\n",
      "\tRecall:    0.3958656330749354\n",
      "\tF-Score:   0.4528524977830328\n",
      "\tSupport:   1935\n",
      "Metrics for X class flares\n",
      "\tPrecision: 0.0\n",
      "\tRecall:    0.0\n",
      "\tF-Score:   0.0\n",
      "\tSupport:   480\n"
     ]
    },
    {
     "data": {
      "image/png": "[encoded data removed]",
      "text/plain": [
       "<Figure size 640x480 with 2 Axes>"
      ]
     },
     "metadata": {},
     "output_type": "display_data"
    }
   ],
   "source": [
    "evaluate_model(model, X_test, y_test)"
   ]
  },
  {
   "cell_type": "markdown",
   "metadata": {},
   "source": [
    "As shown in the confusion matrix and metrics above, our model has difficulties discerning between the \"No Flare\" case and B- and C- class flares. Because of the severity of M and X class flares, they are more important to predict than the less severe solar flares, and we see that the recall of M-class flares is around 40%, which for a simple model is not bad for timeseries prediction. The X-class prediction, however, is not at all good, with no flares being correctly predicted. Once again, a more sophisticated, deep machine learning model would help to make this better. With solar flares, predicting the \"No Flare\" condition is not as important as predicting a solar flare, so the metrics we care most about are the **recall** for each of the solar flare classes. The recall of the B- and C- class flares are around 60%, which is acceptable. The M- and X- class recall are not as favorable, as mentioned above."
   ]
  }
 ],
 "metadata": {
  "kernelspec": {
   "display_name": "Python 3",
   "language": "python",
   "name": "python3"
  },
  "language_info": {
   "codemirror_mode": {
    "name": "ipython",
    "version": 3
   },
   "file_extension": ".py",
   "mimetype": "text/x-python",
   "name": "python",
   "nbconvert_exporter": "python",
   "pygments_lexer": "ipython3",
   "version": "3.11.0"
  }
 },
 "nbformat": 4,
 "nbformat_minor": 2
}
