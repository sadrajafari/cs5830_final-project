{
 "cells": [
  {
   "cell_type": "code",
   "execution_count": null,
   "id": "1a38286a-d251-4208-9c81-12669d5eb2d1",
   "metadata": {},
   "outputs": [],
   "source": [
    "import os\n",
    "import pandas as pd\n",
    "from tqdm import tqdm"
   ]
  },
  {
   "cell_type": "code",
   "execution_count": null,
   "id": "a9522478-96f7-488f-8728-1aecf550a055",
   "metadata": {},
   "outputs": [],
   "source": [
    "def read_csv_file(file_path, df):\n",
    "    df1 = pd.read_csv(file_path, sep='\\t')\n",
    "    return pd.concat([df, df1])"
   ]
  },
  {
   "cell_type": "code",
   "execution_count": null,
   "id": "68089b29-72a1-42bb-bece-ac96f77769c0",
   "metadata": {},
   "outputs": [],
   "source": [
    "COLAB_PATH = os.getcwd()\n",
    "DATA_PATH = os.path.join(COLAB_PATH, 'data')\n",
    "dirs = os.listdir(DATA_PATH)\n",
    "df = pd.DataFrame()\n",
    "for dir in dirs:\n",
    "    if \"partition\" in dir:\n",
    "        FOLDER_PATH = os.path.join(DATA_PATH, dir)\n",
    "        print(FOLDER_PATH)\n",
    "        files = os.listdir(FOLDER_PATH)\n",
    "        for file in tqdm(files):\n",
    "            df = read_csv_file(os.path.join(FOLDER_PATH, file), df)\n",
    "df.to_csv('combine.csv')"
   ]
  }
 ],
 "metadata": {
  "kernelspec": {
   "display_name": "Python 3 (ipykernel)",
   "language": "python",
   "name": "python3"
  },
  "language_info": {
   "codemirror_mode": {
    "name": "ipython",
    "version": 3
   },
   "file_extension": ".py",
   "mimetype": "text/x-python",
   "name": "python",
   "nbconvert_exporter": "python",
   "pygments_lexer": "ipython3",
   "version": "3.11.7"
  }
 },
 "nbformat": 4,
 "nbformat_minor": 5
}
