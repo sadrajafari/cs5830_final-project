{
 "cells": [
  {
   "cell_type": "code",
   "execution_count": null,
   "id": "a0b4b688-8a81-418e-abff-b5ee6c90269d",
   "metadata": {},
   "outputs": [],
   "source": [
    "import os\n",
    "import pandas as pd\n",
    "import numpy as np\n",
    "import seaborn as sns\n",
    "import matplotlib.pyplot as plt\n",
    "import warnings\n",
    "warnings.simplefilter(action='ignore', category=FutureWarning)"
   ]
  },
  {
   "cell_type": "code",
   "execution_count": null,
   "id": "e1d894ae-1d17-4588-adf5-4c44d7c9eb76",
   "metadata": {},
   "outputs": [],
   "source": [
    "df = pd.read_csv(\"data.csv\", index_col=0)"
   ]
  },
  {
   "cell_type": "code",
   "execution_count": null,
   "id": "aaabcb9b-e516-44d2-9105-02a13690cdae",
   "metadata": {},
   "outputs": [],
   "source": [
    "df.sample(5)"
   ]
  },
  {
   "cell_type": "code",
   "execution_count": null,
   "id": "25d1cb1c-dcca-4dc0-bdff-1c61decf98d8",
   "metadata": {},
   "outputs": [],
   "source": [
    "df.shape"
   ]
  },
  {
   "cell_type": "code",
   "execution_count": null,
   "id": "a60ff15d-c516-4999-bcca-cbcaf2956f3d",
   "metadata": {},
   "outputs": [],
   "source": [
    "df['y'].value_counts()"
   ]
  },
  {
   "cell_type": "code",
   "execution_count": null,
   "id": "c743ac8c-52f3-4a2f-a8e1-7718f7c3b50e",
   "metadata": {},
   "outputs": [],
   "source": [
    "df['Timestamp'] = pd.to_datetime(df['Timestamp'])\n",
    "df['year'] = df.Timestamp.dt.year"
   ]
  },
  {
   "cell_type": "code",
   "execution_count": null,
   "id": "e0561481-5bfd-48b8-9420-3058514c17ab",
   "metadata": {},
   "outputs": [],
   "source": [
    "df_year_count = df.groupby(['year', 'y'])['TOTUSJH'].count().reset_index()"
   ]
  },
  {
   "cell_type": "code",
   "execution_count": null,
   "id": "7cbebbf8-5f67-4573-8736-4ccd4350db11",
   "metadata": {},
   "outputs": [],
   "source": [
    "df_year_count.columns = ['year', 'y','count']\n",
    "df_year_count_except_0 = df_year_count[df_year_count['y']!= 0]"
   ]
  },
  {
   "cell_type": "code",
   "execution_count": null,
   "id": "b0003026-127b-4464-a6a2-7434f7bee7d6",
   "metadata": {},
   "outputs": [],
   "source": [
    "plt.figure()\n",
    "ax = sns.lineplot(data=df_year_count_except_0, x='year', y='count', hue='y', palette=\"viridis\")\n",
    "ax.set_title(\"Number of solar flare X over the years\")\n",
    "plt.show()"
   ]
  },
  {
   "cell_type": "code",
   "execution_count": null,
   "id": "93bbc74c-aad4-46a5-b4fc-b06efee6682d",
   "metadata": {},
   "outputs": [],
   "source": [
    "df_year_count_4 = df_year_count[df_year_count['y']== 4]"
   ]
  },
  {
   "cell_type": "code",
   "execution_count": null,
   "id": "0e4c63e6-de18-4339-a15f-ab35c3c6dc49",
   "metadata": {},
   "outputs": [],
   "source": [
    "plt.figure()\n",
    "ax = sns.lineplot(data=df_year_count_4, x='year', y='count', hue='y', palette=\"viridis\")\n",
    "ax.set_title(\"Number of solar flare X over the years\")\n",
    "plt.show()"
   ]
  },
  {
   "cell_type": "code",
   "execution_count": null,
   "id": "6a74867e-be58-4302-b1d8-6e09e6b5c96a",
   "metadata": {},
   "outputs": [],
   "source": [
    "# sns.heatmap(df.corr()['y'])\n",
    "plt.figure(figsize=(10, 10))\n",
    "ax = sns.heatmap(df.corr()[['y']], vmin=-1, vmax=1, annot=True)\n",
    "ax.set_title(\"Correlation plot of variable with y\")"
   ]
  },
  {
   "cell_type": "code",
   "execution_count": null,
   "id": "8b440fdb-5a0e-4c55-94b6-a70adf29d3c0",
   "metadata": {},
   "outputs": [],
   "source": [
    "features = ['TOTUSJH', 'TOTBSQ', 'TOTUSJZ', 'USFLUX', 'TOTFZ', 'R_VALUE']"
   ]
  },
  {
   "cell_type": "code",
   "execution_count": null,
   "id": "0e0fcdb2-507d-4a1e-adbe-d0e3be0dd379",
   "metadata": {},
   "outputs": [],
   "source": [
    "for feature in features:\n",
    "    df_k = df[[feature, 'y']]\n",
    "    df_k = df_k.reset_index()\n",
    "    plt.figure()\n",
    "    g = sns.FacetGrid(df_k, col='y')\n",
    "    g.map(sns.kdeplot, feature)\n",
    "plt.show()"
   ]
  },
  {
   "cell_type": "code",
   "execution_count": null,
   "id": "b0b53c98-1bd3-4d0e-ba1d-61a8e1304bf5",
   "metadata": {},
   "outputs": [],
   "source": [
    "fig, axes = plt.subplots(nrows=2, ncols=3, figsize=(15, 10), sharex=False, sharey=False)\n",
    "axes = axes.ravel()\n",
    "plt.figure()\n",
    "for i, feature in enumerate(features):\n",
    "    df_k = df[[feature, 'y']]\n",
    "    df_k = df_k.reset_index()\n",
    "    sns.boxplot(data=df_k, x=\"y\", y=feature, ax=axes[i])\n",
    "fig.suptitle(\"Values for each solar flares\")\n",
    "plt.show()"
   ]
  },
  {
   "cell_type": "code",
   "execution_count": null,
   "id": "81e263a4-3a7e-4f3e-af11-fb2da6daeaf2",
   "metadata": {},
   "outputs": [],
   "source": [
    "df['date_ordinal'] = pd.to_datetime(df['Timestamp']).apply(lambda date: date.toordinal())\n",
    "plt.figure()\n",
    "for feature in features:\n",
    "    df_data_k = df[[feature, 'y', 'date_ordinal']]\n",
    "    df_data_k = df_data_k.reset_index()\n",
    "    g = sns.FacetGrid(df_data_k, col='y')\n",
    "    g.map(sns.regplot, 'date_ordinal', feature, line_kws={\"color\": \"red\"})\n",
    "plt.show()"
   ]
  },
  {
   "cell_type": "code",
   "execution_count": null,
   "id": "b72cefde-9046-4160-965a-6846663fe0bd",
   "metadata": {},
   "outputs": [],
   "source": [
    "color = ['#264653', '#2a9d8f', '#e9c46a', '#f4a261', '#e76f51']\n",
    "# fig, axes = plt.subplots(nrows=2, ncols=3, figsize=(15, 10), sharex=False, sharey=False)\n",
    "# axes = axes.ravel()\n",
    "for feature in features:\n",
    "  fig, axs = plt.subplots(1, 5, figsize=(24, 4))\n",
    "  for i in range(len(df.y.unique())):\n",
    "    sns.lineplot(\n",
    "      data=df[df.y==i],\n",
    "      x='Timestamp',\n",
    "      y=feature,\n",
    "      ax=axs[i],\n",
    "      color=color[i]\n",
    "    )\n",
    "fig.suptitle(\"Visualization of values for each variable in each timestamp\")"
   ]
  },
  {
   "cell_type": "code",
   "execution_count": null,
   "id": "6663a40a-6c4d-422f-9f4d-8f62e5e2c88c",
   "metadata": {},
   "outputs": [],
   "source": [
    "fig, axes = plt.subplots(nrows=2, ncols=3, figsize=(15, 10), sharex=False, sharey=False)\n",
    "axes = axes.ravel()\n",
    "plt.figure()\n",
    "for i, feature in enumerate(features):\n",
    "    sns.regplot(\n",
    "        data=df,\n",
    "        x=feature,\n",
    "        y='y',\n",
    "        ax=axes[i],\n",
    "        scatter_kws={\"color\": \"blue\"},\n",
    "        line_kws={\"color\": \"red\"}\n",
    "    )\n",
    "fig.suptitle(\"Correlation of each variable with the solar flares\")\n",
    "plt.show()"
   ]
  },
  {
   "cell_type": "code",
   "execution_count": null,
   "id": "c897fb24-096d-4d48-8673-b930932a3757",
   "metadata": {},
   "outputs": [],
   "source": []
  }
 ],
 "metadata": {
  "kernelspec": {
   "display_name": "Python 3 (ipykernel)",
   "language": "python",
   "name": "python3"
  },
  "language_info": {
   "codemirror_mode": {
    "name": "ipython",
    "version": 3
   },
   "file_extension": ".py",
   "mimetype": "text/x-python",
   "name": "python",
   "nbconvert_exporter": "python",
   "pygments_lexer": "ipython3",
   "version": "3.11.7"
  }
 },
 "nbformat": 4,
 "nbformat_minor": 5
}
