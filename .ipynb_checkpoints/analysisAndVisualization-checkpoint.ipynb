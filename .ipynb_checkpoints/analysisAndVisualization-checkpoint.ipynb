{
 "cells": [
  {
   "cell_type": "code",
   "execution_count": null,
   "id": "a0b4b688-8a81-418e-abff-b5ee6c90269d",
   "metadata": {},
   "outputs": [],
   "source": [
    "import os\n",
    "import pandas as pd\n",
    "import numpy as np\n",
    "import seaborn as sns\n",
    "import matplotlib.pyplot as plt\n",
    "import warnings\n",
    "warnings.simplefilter(action='ignore', category=FutureWarning)"
   ]
  },
  {
   "cell_type": "code",
   "execution_count": null,
   "id": "e1d894ae-1d17-4588-adf5-4c44d7c9eb76",
   "metadata": {},
   "outputs": [],
   "source": [
    "df_data = pd.read_csv(\"data.csv\", index_col=0)"
   ]
  },
  {
   "cell_type": "code",
   "execution_count": null,
   "id": "344f53f0-04d5-41a6-995c-9a36d7a335b4",
   "metadata": {},
   "outputs": [],
   "source": [
    "df_data['Timestamp'] = pd.to_datetime(df_data['Timestamp'])"
   ]
  },
  {
   "cell_type": "code",
   "execution_count": null,
   "id": "aaabcb9b-e516-44d2-9105-02a13690cdae",
   "metadata": {},
   "outputs": [],
   "source": [
    "df_data.sample(5)"
   ]
  },
  {
   "cell_type": "code",
   "execution_count": null,
   "id": "b7707c6a-d74d-498d-95ad-70e78eefa17b",
   "metadata": {},
   "outputs": [],
   "source": [
    "df_data_ts = df_data[['Timestamp', 'y']]\n",
    "df_data_ts"
   ]
  },
  {
   "cell_type": "code",
   "execution_count": null,
   "id": "25d1cb1c-dcca-4dc0-bdff-1c61decf98d8",
   "metadata": {},
   "outputs": [],
   "source": [
    "sns.scatterplot(data=df_data_ts, x ='Timestamp', y='y')"
   ]
  },
  {
   "cell_type": "code",
   "execution_count": null,
   "id": "a60ff15d-c516-4999-bcca-cbcaf2956f3d",
   "metadata": {},
   "outputs": [],
   "source": [
    "df_data_ts['y'].value_counts()"
   ]
  },
  {
   "cell_type": "code",
   "execution_count": null,
   "id": "f93936a0-1f8c-4b1d-85f6-68cd5000e2d4",
   "metadata": {},
   "outputs": [],
   "source": [
    "# def normalize(df):\n",
    "#     for column in df.columns:\n",
    "#         if 'y' not in column and 'Timestamp' not in column:\n",
    "#             df[column] = (df[column] - df[column].mean()) / df[column].std()\n",
    "#     return df"
   ]
  },
  {
   "cell_type": "code",
   "execution_count": null,
   "id": "54da41a4-f4e9-42be-b2e1-54696fe34b77",
   "metadata": {},
   "outputs": [],
   "source": [
    "# df_normalize = normalize(df_data)"
   ]
  },
  {
   "cell_type": "code",
   "execution_count": null,
   "id": "c743ac8c-52f3-4a2f-a8e1-7718f7c3b50e",
   "metadata": {},
   "outputs": [],
   "source": [
    "df_data['year'] = df_data.Timestamp.dt.year"
   ]
  },
  {
   "cell_type": "code",
   "execution_count": null,
   "id": "e0561481-5bfd-48b8-9420-3058514c17ab",
   "metadata": {},
   "outputs": [],
   "source": [
    "df_year_count = df_data.groupby(['year', 'y'])['TOTUSJH'].count().reset_index()"
   ]
  },
  {
   "cell_type": "code",
   "execution_count": null,
   "id": "7cbebbf8-5f67-4573-8736-4ccd4350db11",
   "metadata": {},
   "outputs": [],
   "source": [
    "df_year_count.columns = ['year', 'y','count']\n",
    "df_year_count_except_0 = df_year_count[df_year_count['y']!= 0]"
   ]
  },
  {
   "cell_type": "code",
   "execution_count": null,
   "id": "b0003026-127b-4464-a6a2-7434f7bee7d6",
   "metadata": {},
   "outputs": [],
   "source": [
    "sns.lineplot(data=df_year_count_except_0, x='year', y='count', hue='y')"
   ]
  },
  {
   "cell_type": "code",
   "execution_count": null,
   "id": "93bbc74c-aad4-46a5-b4fc-b06efee6682d",
   "metadata": {},
   "outputs": [],
   "source": [
    "df_year_count_4 = df_year_count[df_year_count['y']== 4]"
   ]
  },
  {
   "cell_type": "code",
   "execution_count": null,
   "id": "0e4c63e6-de18-4339-a15f-ab35c3c6dc49",
   "metadata": {},
   "outputs": [],
   "source": [
    "sns.lineplot(data=df_year_count_4, x='year', y='count', hue='y')"
   ]
  },
  {
   "cell_type": "code",
   "execution_count": null,
   "id": "6a74867e-be58-4302-b1d8-6e09e6b5c96a",
   "metadata": {},
   "outputs": [],
   "source": [
    "# sns.heatmap(df_data.corr()[['y']])\n",
    "plt.figure(figsize=(1.5, 6))\n",
    "sns.heatmap(df_data.corr()[['y']], xticklabels=True, yticklabels=True, annot=True, cmap='BrBG')\n"
   ]
  },
  {
   "cell_type": "code",
   "execution_count": null,
   "id": "f2ddb239-8503-4aef-ab0d-c7af9c653597",
   "metadata": {},
   "outputs": [],
   "source": [
    "sns.boxplot(data=df_data, x=df_data['y'], y=df_data['TOTUSJH'])"
   ]
  },
  {
   "cell_type": "code",
   "execution_count": null,
   "id": "11049817-6074-4f34-a71a-95c1a695c9a2",
   "metadata": {},
   "outputs": [],
   "source": [
    "# plt.figure()\n",
    "# main_columns = ['TOTUSJH', 'TOTBSQ', 'TOTUSJZ', 'ABSNJZH', 'SAVNCPP', 'USFLUX', 'TOTFZ', 'R_VALUE']\n",
    "# for column in main_columns:\n",
    "#     df_data.plot(x='Timestamp', y=column)\n",
    "# plt.show()"
   ]
  },
  {
   "cell_type": "code",
   "execution_count": null,
   "id": "d3550666-5d3d-40e0-8a0c-d0570674d35f",
   "metadata": {},
   "outputs": [],
   "source": []
  },
  {
   "cell_type": "code",
   "execution_count": null,
   "id": "5c379090-5421-42cf-9a81-5882b1265248",
   "metadata": {},
   "outputs": [],
   "source": [
    "df_data_2014 = df_data[df_data['year']==2014]"
   ]
  },
  {
   "cell_type": "code",
   "execution_count": null,
   "id": "bac9c27e-3ead-438d-b497-76be39b8cc69",
   "metadata": {},
   "outputs": [],
   "source": [
    "df_data_2014"
   ]
  },
  {
   "cell_type": "code",
   "execution_count": null,
   "id": "cf3fd55b-3bd3-4bae-9dff-13851ccc9e09",
   "metadata": {},
   "outputs": [],
   "source": [
    "# plt.figure()\n",
    "# main_columns = ['Timestamp', 'TOTUSJH', 'TOTBSQ', 'TOTUSJZ', 'ABSNJZH', 'SAVNCPP', 'USFLUX', 'TOTFZ', 'R_VALUE','y']\n",
    "# df_data_plot = df_data_2014[main_columns]\n",
    "# fig, ax = plt.subplots()\n",
    "# df_data.groupby(\"y\").plot(x=\"Timestamp\", y=\"TOTUSJH\", marker=\"o\", ax=ax)\n",
    "# ax.legend([\"0\",\"1\",\"2\",\"3\",\"4\"])\n",
    "# # df_data_plot.Timestamp.duplicated()\n",
    "# # df_data_plot = df_data_plot.drop_duplicates()\n",
    "# # df_data_plot.reset_index(level=0, inplace=True)\n",
    "# # sns.lineplot(data=df_data_plot, x='Timestamp', y='TOTUSJH')\n",
    "# # for column in main_columns:\n",
    "# #     df_data_plot.plot(x='Timestamp', y=column)\n",
    "# #     i += 1\n",
    "# # plt.show()"
   ]
  },
  {
   "cell_type": "code",
   "execution_count": null,
   "id": "1d0eafd0-b08a-401b-bd72-51d9749df2ee",
   "metadata": {},
   "outputs": [],
   "source": [
    "# plt.figure()\n",
    "# main_columns = ['TOTUSJH', 'TOTBSQ', 'TOTUSJZ', 'ABSNJZH', 'SAVNCPP', 'USFLUX', 'TOTFZ', 'R_VALUE']\n",
    "# for column in main_columns:\n",
    "#     fig, ax = plt.subplots()\n",
    "#     df_data.groupby(\"y\").plot(x=\"Timestamp\", y=column, marker=\"o\", ax=ax)\n",
    "#     # df_data.plot(x='Timestamp', y=column)\n",
    "#     ax.legend([\"0\",\"1\",\"2\",\"3\",\"4\"])\n",
    "# plt.show()"
   ]
  },
  {
   "cell_type": "code",
   "execution_count": null,
   "id": "6a2c6e1a-3168-4e92-852e-98250306da19",
   "metadata": {},
   "outputs": [],
   "source": [
    "# plt.figure()\n",
    "# main_columns = ['TOTUSJH', 'TOTBSQ', 'TOTUSJZ', 'ABSNJZH', 'SAVNCPP', 'USFLUX', 'TOTFZ', 'R_VALUE']\n",
    "# df_data_y = df_data[df_data['y'] != 0]\n",
    "# for column in main_columns:\n",
    "#     fig, ax = plt.subplots()\n",
    "#     df_data_y.groupby(\"y\").plot(x=\"Timestamp\", y=column, marker=\"o\", ax=ax)\n",
    "#     # df_data.plot(x='Timestamp', y=column)\n",
    "#     ax.legend([\"1\",\"2\",\"3\",\"4\"])\n",
    "# plt.show()"
   ]
  },
  {
   "cell_type": "code",
   "execution_count": null,
   "id": "ae687d8f-e969-46a9-b55b-428ab68d540d",
   "metadata": {},
   "outputs": [],
   "source": [
    "# from matplotlib.lines import Line2D\n",
    "# plt.figure()\n",
    "# main_columns = ['TOTUSJH', 'TOTBSQ', 'TOTUSJZ', 'ABSNJZH', 'SAVNCPP', 'USFLUX', 'TOTFZ', 'R_VALUE']\n",
    "# df_data_y = df_data[df_data['y'] != 0]\n",
    "# colors = {0:'tab:blue', 1:'tab:orange', 2:'tab:green', 3:'tab:red', 4:'tab:purple'}\n",
    "# c=df_data_y['y'].map(colors)\n",
    "# for column in main_columns:\n",
    "#     fig, ax = plt.subplots()\n",
    "#     ax.scatter(df_data_y['Timestamp'], df_data_y[column], c=c)\n",
    "#     # df_data.plot(x='Timestamp', y=column)\n",
    "#     # ax.legend([\"1\",\"2\",\"3\",\"4\"])\n",
    "#     handles = [Line2D([0], [0], marker='o', color='w', markerfacecolor=v, label=k, markersize=8) for k, v in colors.items()]\n",
    "#     ax.legend(title='color', handles=handles, bbox_to_anchor=(1.05, 1), loc='upper left')\n",
    "\n",
    "# plt.show()\n"
   ]
  },
  {
   "cell_type": "code",
   "execution_count": null,
   "id": "f2bf0daf-dc4c-4063-b400-8bb8725b45c3",
   "metadata": {},
   "outputs": [],
   "source": [
    "from matplotlib.lines import Line2D\n",
    "plt.figure()\n",
    "main_columns = ['TOTUSJH', 'TOTBSQ', 'TOTUSJZ', 'ABSNJZH', 'SAVNCPP', 'USFLUX', 'TOTFZ', 'R_VALUE']\n",
    "df_data_y = df_data[df_data['y'] != 0]\n",
    "colors = {0:'tab:blue', 1:'tab:orange', 2:'tab:green', 3:'tab:red', 4:'tab:purple'}\n",
    "c=df_data_y['y'].map(colors)\n",
    "fig, ax = plt.subplots()\n",
    "ax.scatter(df_data_y['TOTUSJH'], df_data_y[\"TOTBSQ\"], c=c)\n",
    "# df_data.plot(x='Timestamp', y=column)\n",
    "# ax.legend([\"1\",\"2\",\"3\",\"4\"])\n",
    "handles = [Line2D([0], [0], marker='o', color='w', markerfacecolor=v, label=k, markersize=8) for k, v in colors.items()]\n",
    "ax.legend(title='color', handles=handles, bbox_to_anchor=(1.05, 1), loc='upper left')\n",
    "plt.show()\n",
    "# df_data_y"
   ]
  },
  {
   "cell_type": "code",
   "execution_count": null,
   "id": "4da90350-5f1e-40f9-bbfa-51940c304537",
   "metadata": {},
   "outputs": [],
   "source": [
    "# sns.kdeplot(data=df_data)\n",
    "df_data_k = df_data[['TOTUSJH', 'y']]\n",
    "df_data_k = df_data_k.reset_index()"
   ]
  },
  {
   "cell_type": "code",
   "execution_count": null,
   "id": "46f5e503-bd5d-45a2-b361-0ab5de5a3300",
   "metadata": {},
   "outputs": [],
   "source": [
    "g = sns.FacetGrid(df_data_k, col='y')\n",
    "g.map(sns.kdeplot, \"TOTUSJH\")"
   ]
  },
  {
   "cell_type": "code",
   "execution_count": null,
   "id": "0e0fcdb2-507d-4a1e-adbe-d0e3be0dd379",
   "metadata": {},
   "outputs": [],
   "source": [
    "columns = ['TOTUSJH', 'TOTBSQ', 'TOTUSJZ', 'USFLUX', 'TOTFZ', 'R_VALUE']\n",
    "plt.figure()\n",
    "for column in columns:\n",
    "    df_data_k = df_data[[column, 'y']]\n",
    "    df_data_k = df_data_k.reset_index()\n",
    "    g = sns.FacetGrid(df_data_k, col='y')\n",
    "    g.map(sns.kdeplot, column)\n",
    "plt.show()"
   ]
  },
  {
   "cell_type": "code",
   "execution_count": null,
   "id": "b0b53c98-1bd3-4d0e-ba1d-61a8e1304bf5",
   "metadata": {},
   "outputs": [],
   "source": [
    "# sns.boxplot(data=df_data, x=df_data['y'], y=df_data['TOTUSJH'])\n",
    "columns = ['TOTUSJH', 'TOTBSQ', 'TOTUSJZ', 'USFLUX', 'TOTFZ', 'R_VALUE']\n",
    "plt.figure()\n",
    "for column in columns:\n",
    "    df_data_k = df_data[[column, 'y', ]]\n",
    "    df_data_k = df_data_k.reset_index()\n",
    "    g = sns.FacetGrid(df_data_k, col='y')\n",
    "    g.map(sns.boxplot, 'y', column)\n",
    "    g.set(xticklabels=[])  \n",
    "plt.show()"
   ]
  },
  {
   "cell_type": "code",
   "execution_count": null,
   "id": "81e263a4-3a7e-4f3e-af11-fb2da6daeaf2",
   "metadata": {},
   "outputs": [],
   "source": [
    "# sns.boxplot(data=df_data, x=df_data['y'], y=df_data['TOTUSJH'])\n",
    "columns = ['TOTUSJH', 'TOTBSQ', 'TOTUSJZ', 'USFLUX', 'TOTFZ', 'R_VALUE']\n",
    "df_data['date_ordinal'] = pd.to_datetime(df_data['Timestamp']).apply(lambda date: date.toordinal())\n",
    "plt.figure()\n",
    "for column in columns:\n",
    "    df_data_k = df_data[[column, 'y', 'date_ordinal']]\n",
    "    df_data_k = df_data_k.reset_index()\n",
    "    g = sns.FacetGrid(df_data_k, col='y')\n",
    "    g.map(sns.regplot, 'date_ordinal', column, line_kws={\"color\": \"red\"})\n",
    "plt.show()"
   ]
  },
  {
   "cell_type": "code",
   "execution_count": null,
   "id": "ea515287-852a-4ac1-99a8-4a2d783cfd5e",
   "metadata": {},
   "outputs": [],
   "source": [
    "# sns.boxplot(data=df_data, x=df_data['y'], y=df_data['TOTUSJH'])\n",
    "columns = ['TOTUSJH', 'TOTBSQ', 'TOTUSJZ', 'USFLUX', 'TOTFZ', 'R_VALUE']\n",
    "# df_data['date_ordinal'] = pd.to_datetime(df_data['Timestamp']).apply(lambda date: date.toordinal())\n",
    "plt.figure()\n",
    "for column in columns:\n",
    "    df_data_k = df_data[[column, 'y', 'Timestamp']]\n",
    "    df_data_k = df_data_k.reset_index()\n",
    "    g = sns.FacetGrid(df_data_k, col='y')\n",
    "    g.map(sns.scatterplot, 'Timestamp', column)\n",
    "    g.tick_params(axis='x', rotation=30)\n",
    "    # g.set_xticklabels(rotation=30)\n",
    "plt.show()"
   ]
  },
  {
   "cell_type": "code",
   "execution_count": null,
   "id": "b72cefde-9046-4160-965a-6846663fe0bd",
   "metadata": {},
   "outputs": [],
   "source": []
  }
 ],
 "metadata": {
  "kernelspec": {
   "display_name": "Python 3 (ipykernel)",
   "language": "python",
   "name": "python3"
  },
  "language_info": {
   "codemirror_mode": {
    "name": "ipython",
    "version": 3
   },
   "file_extension": ".py",
   "mimetype": "text/x-python",
   "name": "python",
   "nbconvert_exporter": "python",
   "pygments_lexer": "ipython3",
   "version": "3.11.7"
  }
 },
 "nbformat": 4,
 "nbformat_minor": 5
}
