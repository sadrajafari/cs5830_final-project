{
 "cells": [
  {
   "cell_type": "code",
   "execution_count": 1,
   "id": "a0970770-b7f8-40a4-a5af-f71a70b74e95",
   "metadata": {},
   "outputs": [],
   "source": [
    "import os\n",
    "import pandas as pd\n",
    "import seaborn as sns\n",
    "from sklearn.tree import DecisionTreeClassifier\n",
    "from tqdm import tqdm"
   ]
  },
  {
   "cell_type": "code",
   "execution_count": 2,
   "id": "ee05472c-c469-44f6-9588-c89717ea3239",
   "metadata": {},
   "outputs": [],
   "source": [
    "def read_csv_file(file_path, df):\n",
    "    df1 = pd.read_csv(file_path, sep='\\t')\n",
    "    return pd.concat([df, df1])"
   ]
  },
  {
   "cell_type": "code",
   "execution_count": 3,
   "id": "2efd76bf-3692-4e36-87f7-5ae09c30dfaf",
   "metadata": {},
   "outputs": [
    {
     "name": "stdout",
     "output_type": "stream",
     "text": [
      "/Users/dpradhan/Documents/USUCourses/DataSciencePractice/cs5830_final-project/data/partition5\n"
     ]
    },
    {
     "name": "stderr",
     "output_type": "stream",
     "text": [
      "100%|███████████████████████████████████████| 1209/1209 [01:18<00:00, 15.39it/s]\n"
     ]
    },
    {
     "name": "stdout",
     "output_type": "stream",
     "text": [
      "/Users/dpradhan/Documents/USUCourses/DataSciencePractice/cs5830_final-project/data/partition2\n"
     ]
    },
    {
     "name": "stderr",
     "output_type": "stream",
     "text": [
      "100%|███████████████████████████████████████| 1045/1045 [05:24<00:00,  3.22it/s]\n"
     ]
    },
    {
     "name": "stdout",
     "output_type": "stream",
     "text": [
      "/Users/dpradhan/Documents/USUCourses/DataSciencePractice/cs5830_final-project/data/partition3\n"
     ]
    },
    {
     "name": "stderr",
     "output_type": "stream",
     "text": [
      "100%|█████████████████████████████████████████| 474/474 [03:47<00:00,  2.09it/s]\n"
     ]
    },
    {
     "name": "stdout",
     "output_type": "stream",
     "text": [
      "/Users/dpradhan/Documents/USUCourses/DataSciencePractice/cs5830_final-project/data/partition4\n"
     ]
    },
    {
     "name": "stderr",
     "output_type": "stream",
     "text": [
      "100%|█████████████████████████████████████████| 565/565 [05:36<00:00,  1.68it/s]\n"
     ]
    },
    {
     "name": "stdout",
     "output_type": "stream",
     "text": [
      "/Users/dpradhan/Documents/USUCourses/DataSciencePractice/cs5830_final-project/data/partition1\n"
     ]
    },
    {
     "name": "stderr",
     "output_type": "stream",
     "text": [
      "100%|█████████████████████████████████████████| 805/805 [11:26<00:00,  1.17it/s]\n"
     ]
    }
   ],
   "source": [
    "COLAB_PATH = os.getcwd()\n",
    "DATA_PATH = os.path.join(COLAB_PATH, 'data')\n",
    "dirs = os.listdir(DATA_PATH)\n",
    "df = pd.DataFrame()\n",
    "for dir in dirs:\n",
    "    if \"partition\" in dir:\n",
    "        FOLDER_PATH = os.path.join(DATA_PATH, dir)\n",
    "        print(FOLDER_PATH)\n",
    "        files = os.listdir(FOLDER_PATH)\n",
    "        for file in tqdm(files):\n",
    "            df = read_csv_file(os.path.join(FOLDER_PATH, file), df)\n",
    "# df.to_csv('combine.csv')"
   ]
  },
  {
   "cell_type": "code",
   "execution_count": 5,
   "id": "a22daef6-db04-40a2-a419-983a99e9dbee",
   "metadata": {},
   "outputs": [
    {
     "data": {
      "text/plain": [
       "(2879658, 55)"
      ]
     },
     "metadata": {},
     "output_type": "display_data"
    },
    {
     "data": {
      "text/plain": [
       "Index(['Timestamp', 'TOTUSJH', 'TOTBSQ', 'TOTPOT', 'TOTUSJZ', 'ABSNJZH',\n",
       "       'SAVNCPP', 'USFLUX', 'TOTFZ', 'MEANPOT', 'EPSZ', 'MEANSHR', 'SHRGT45',\n",
       "       'MEANGAM', 'MEANGBT', 'MEANGBZ', 'MEANGBH', 'MEANJZH', 'TOTFY',\n",
       "       'MEANJZD', 'MEANALP', 'TOTFX', 'EPSY', 'EPSX', 'R_VALUE', 'CRVAL1',\n",
       "       'CRLN_OBS', 'CRLT_OBS', 'CRVAL2', 'HC_ANGLE', 'SPEI', 'LAT_MIN',\n",
       "       'LON_MIN', 'LAT_MAX', 'LON_MAX', 'QUALITY', 'BFLARE', 'BFLARE_LABEL',\n",
       "       'CFLARE', 'CFLARE_LABEL', 'MFLARE', 'MFLARE_LABEL', 'XFLARE',\n",
       "       'XFLARE_LABEL', 'BFLARE_LOC', 'BFLARE_LABEL_LOC', 'CFLARE_LOC',\n",
       "       'CFLARE_LABEL_LOC', 'MFLARE_LOC', 'MFLARE_LABEL_LOC', 'XFLARE_LOC',\n",
       "       'XFLARE_LABEL_LOC', 'XR_MAX', 'XR_QUAL', 'IS_TMFI'],\n",
       "      dtype='object')"
      ]
     },
     "metadata": {},
     "output_type": "display_data"
    }
   ],
   "source": [
    "display(df.shape)\n",
    "display(df.columns)"
   ]
  },
  {
   "cell_type": "code",
   "execution_count": 6,
   "id": "9dd73d45-356d-41c4-8660-6b7b787ddfe4",
   "metadata": {},
   "outputs": [
    {
     "data": {
      "text/plain": [
       "(2879658, 56)"
      ]
     },
     "metadata": {},
     "output_type": "display_data"
    },
    {
     "data": {
      "text/plain": [
       "Index(['Timestamp', 'TOTUSJH', 'TOTBSQ', 'TOTPOT', 'TOTUSJZ', 'ABSNJZH',\n",
       "       'SAVNCPP', 'USFLUX', 'TOTFZ', 'MEANPOT', 'EPSZ', 'MEANSHR', 'SHRGT45',\n",
       "       'MEANGAM', 'MEANGBT', 'MEANGBZ', 'MEANGBH', 'MEANJZH', 'TOTFY',\n",
       "       'MEANJZD', 'MEANALP', 'TOTFX', 'EPSY', 'EPSX', 'R_VALUE', 'CRVAL1',\n",
       "       'CRLN_OBS', 'CRLT_OBS', 'CRVAL2', 'HC_ANGLE', 'SPEI', 'LAT_MIN',\n",
       "       'LON_MIN', 'LAT_MAX', 'LON_MAX', 'QUALITY', 'BFLARE', 'BFLARE_LABEL',\n",
       "       'CFLARE', 'CFLARE_LABEL', 'MFLARE', 'MFLARE_LABEL', 'XFLARE',\n",
       "       'XFLARE_LABEL', 'BFLARE_LOC', 'BFLARE_LABEL_LOC', 'CFLARE_LOC',\n",
       "       'CFLARE_LABEL_LOC', 'MFLARE_LOC', 'MFLARE_LABEL_LOC', 'XFLARE_LOC',\n",
       "       'XFLARE_LABEL_LOC', 'XR_MAX', 'XR_QUAL', 'IS_TMFI', 'y'],\n",
       "      dtype='object')"
      ]
     },
     "metadata": {},
     "output_type": "display_data"
    }
   ],
   "source": [
    "df['y'] = 0\n",
    "df.loc[df['BFLARE'] > 0, 'y'] = 1\n",
    "df.loc[df['CFLARE'] > 0, 'y'] = 2\n",
    "df.loc[df['MFLARE'] > 0, 'y'] = 3\n",
    "df.loc[df['XFLARE'] > 0, 'y'] = 4\n",
    "display(df.shape)\n",
    "display(df.columns)"
   ]
  },
  {
   "cell_type": "code",
   "execution_count": 7,
   "id": "d7d1eb8b-e6fc-44cc-8f22-23fdb07a98f8",
   "metadata": {},
   "outputs": [
    {
     "data": {
      "text/plain": [
       "(2879658, 39)"
      ]
     },
     "execution_count": 7,
     "metadata": {},
     "output_type": "execute_result"
    }
   ],
   "source": [
    "df = df.drop([\n",
    "    'MFLARE_LABEL', \n",
    "    'BFLARE_LABEL', \n",
    "    'CFLARE_LABEL', \n",
    "    'XFLARE_LABEL', \n",
    "    'XFLARE_LABEL_LOC', \n",
    "    'BFLARE_LABEL_LOC', \n",
    "    'MFLARE_LABEL_LOC', \n",
    "    'CFLARE_LABEL_LOC', \n",
    "    'BFLARE_LOC', \n",
    "    'XFLARE_LOC',\n",
    "    'MFLARE_LOC',\n",
    "    'CFLARE_LOC',\n",
    "    'XFLARE', \n",
    "    'BFLARE',\n",
    "    'CFLARE',\n",
    "    'MFLARE',\n",
    "    'XR_MAX',\n",
    "], axis=1)\n",
    "df.shape"
   ]
  },
  {
   "cell_type": "code",
   "execution_count": 12,
   "id": "695c5b54-e9b5-4db0-b198-9b709070eff3",
   "metadata": {},
   "outputs": [
    {
     "data": {
      "text/plain": [
       "y\n",
       "0    2867215\n",
       "2       7044\n",
       "1       4649\n",
       "3        703\n",
       "4         47\n",
       "Name: count, dtype: int64"
      ]
     },
     "execution_count": 12,
     "metadata": {},
     "output_type": "execute_result"
    }
   ],
   "source": [
    "df['y'].value_counts()"
   ]
  },
  {
   "cell_type": "code",
   "execution_count": 22,
   "id": "29426244-a82f-4144-b13c-006cca1a0f1b",
   "metadata": {},
   "outputs": [
    {
     "data": {
      "text/html": [
       "<div>\n",
       "<style scoped>\n",
       "    .dataframe tbody tr th:only-of-type {\n",
       "        vertical-align: middle;\n",
       "    }\n",
       "\n",
       "    .dataframe tbody tr th {\n",
       "        vertical-align: top;\n",
       "    }\n",
       "\n",
       "    .dataframe thead th {\n",
       "        text-align: right;\n",
       "    }\n",
       "</style>\n",
       "<table border=\"1\" class=\"dataframe\">\n",
       "  <thead>\n",
       "    <tr style=\"text-align: right;\">\n",
       "      <th></th>\n",
       "      <th>Timestamp</th>\n",
       "      <th>TOTUSJH</th>\n",
       "      <th>TOTBSQ</th>\n",
       "      <th>TOTPOT</th>\n",
       "      <th>TOTUSJZ</th>\n",
       "      <th>ABSNJZH</th>\n",
       "      <th>SAVNCPP</th>\n",
       "      <th>USFLUX</th>\n",
       "      <th>TOTFZ</th>\n",
       "      <th>MEANPOT</th>\n",
       "      <th>...</th>\n",
       "      <th>HC_ANGLE</th>\n",
       "      <th>SPEI</th>\n",
       "      <th>LAT_MIN</th>\n",
       "      <th>LON_MIN</th>\n",
       "      <th>LAT_MAX</th>\n",
       "      <th>LON_MAX</th>\n",
       "      <th>QUALITY</th>\n",
       "      <th>XR_QUAL</th>\n",
       "      <th>IS_TMFI</th>\n",
       "      <th>y</th>\n",
       "    </tr>\n",
       "  </thead>\n",
       "  <tbody>\n",
       "    <tr>\n",
       "      <th>907</th>\n",
       "      <td>2015-01-16 10:12:00</td>\n",
       "      <td>115.042834</td>\n",
       "      <td>1.320563e+09</td>\n",
       "      <td>1.247108e+22</td>\n",
       "      <td>2.246577e+12</td>\n",
       "      <td>4.667056</td>\n",
       "      <td>6.464892e+11</td>\n",
       "      <td>1.531521e+21</td>\n",
       "      <td>-6.646182e+23</td>\n",
       "      <td>4218.580504</td>\n",
       "      <td>...</td>\n",
       "      <td>11.339448</td>\n",
       "      <td>True</td>\n",
       "      <td>-16.222870</td>\n",
       "      <td>-1.229158</td>\n",
       "      <td>-6.962595</td>\n",
       "      <td>16.275675</td>\n",
       "      <td>0.0</td>\n",
       "      <td>12</td>\n",
       "      <td>True</td>\n",
       "      <td>0</td>\n",
       "    </tr>\n",
       "    <tr>\n",
       "      <th>491</th>\n",
       "      <td>2011-09-09 23:12:00</td>\n",
       "      <td>1921.886986</td>\n",
       "      <td>3.793305e+10</td>\n",
       "      <td>7.260440e+23</td>\n",
       "      <td>3.987727e+13</td>\n",
       "      <td>381.208211</td>\n",
       "      <td>1.463460e+13</td>\n",
       "      <td>3.015232e+22</td>\n",
       "      <td>-9.345549e+24</td>\n",
       "      <td>11871.138943</td>\n",
       "      <td>...</td>\n",
       "      <td>43.862663</td>\n",
       "      <td>True</td>\n",
       "      <td>18.190350</td>\n",
       "      <td>-55.205151</td>\n",
       "      <td>27.566216</td>\n",
       "      <td>-32.911865</td>\n",
       "      <td>0.0</td>\n",
       "      <td>12</td>\n",
       "      <td>True</td>\n",
       "      <td>0</td>\n",
       "    </tr>\n",
       "    <tr>\n",
       "      <th>596</th>\n",
       "      <td>2014-02-09 11:24:00</td>\n",
       "      <td>650.684241</td>\n",
       "      <td>8.551191e+09</td>\n",
       "      <td>1.445524e+23</td>\n",
       "      <td>1.526463e+13</td>\n",
       "      <td>71.569854</td>\n",
       "      <td>4.826796e+12</td>\n",
       "      <td>7.827807e+21</td>\n",
       "      <td>-2.208979e+24</td>\n",
       "      <td>8046.578944</td>\n",
       "      <td>...</td>\n",
       "      <td>21.839263</td>\n",
       "      <td>True</td>\n",
       "      <td>1.054148</td>\n",
       "      <td>-24.583544</td>\n",
       "      <td>10.352530</td>\n",
       "      <td>-11.287811</td>\n",
       "      <td>0.0</td>\n",
       "      <td>12</td>\n",
       "      <td>True</td>\n",
       "      <td>0</td>\n",
       "    </tr>\n",
       "    <tr>\n",
       "      <th>773</th>\n",
       "      <td>2015-03-28 19:12:00</td>\n",
       "      <td>736.887582</td>\n",
       "      <td>5.544751e+09</td>\n",
       "      <td>5.457102e+22</td>\n",
       "      <td>1.749918e+13</td>\n",
       "      <td>93.866239</td>\n",
       "      <td>6.910337e+12</td>\n",
       "      <td>9.527869e+21</td>\n",
       "      <td>-3.495241e+24</td>\n",
       "      <td>2440.534053</td>\n",
       "      <td>...</td>\n",
       "      <td>20.598992</td>\n",
       "      <td>True</td>\n",
       "      <td>2.389273</td>\n",
       "      <td>-25.392481</td>\n",
       "      <td>22.804871</td>\n",
       "      <td>16.151649</td>\n",
       "      <td>0.0</td>\n",
       "      <td>12</td>\n",
       "      <td>True</td>\n",
       "      <td>0</td>\n",
       "    </tr>\n",
       "    <tr>\n",
       "      <th>55</th>\n",
       "      <td>2014-01-31 05:24:00</td>\n",
       "      <td>17.292013</td>\n",
       "      <td>1.041327e+08</td>\n",
       "      <td>1.223459e+21</td>\n",
       "      <td>5.026830e+11</td>\n",
       "      <td>4.728189</td>\n",
       "      <td>1.227779e+11</td>\n",
       "      <td>1.458736e+20</td>\n",
       "      <td>-2.525715e+22</td>\n",
       "      <td>2344.144663</td>\n",
       "      <td>...</td>\n",
       "      <td>10.842520</td>\n",
       "      <td>True</td>\n",
       "      <td>-11.167577</td>\n",
       "      <td>6.508239</td>\n",
       "      <td>-9.402390</td>\n",
       "      <td>10.045568</td>\n",
       "      <td>0.0</td>\n",
       "      <td>12</td>\n",
       "      <td>True</td>\n",
       "      <td>0</td>\n",
       "    </tr>\n",
       "  </tbody>\n",
       "</table>\n",
       "<p>5 rows × 39 columns</p>\n",
       "</div>"
      ],
      "text/plain": [
       "               Timestamp      TOTUSJH        TOTBSQ        TOTPOT  \\\n",
       "907  2015-01-16 10:12:00   115.042834  1.320563e+09  1.247108e+22   \n",
       "491  2011-09-09 23:12:00  1921.886986  3.793305e+10  7.260440e+23   \n",
       "596  2014-02-09 11:24:00   650.684241  8.551191e+09  1.445524e+23   \n",
       "773  2015-03-28 19:12:00   736.887582  5.544751e+09  5.457102e+22   \n",
       "55   2014-01-31 05:24:00    17.292013  1.041327e+08  1.223459e+21   \n",
       "\n",
       "          TOTUSJZ     ABSNJZH       SAVNCPP        USFLUX         TOTFZ  \\\n",
       "907  2.246577e+12    4.667056  6.464892e+11  1.531521e+21 -6.646182e+23   \n",
       "491  3.987727e+13  381.208211  1.463460e+13  3.015232e+22 -9.345549e+24   \n",
       "596  1.526463e+13   71.569854  4.826796e+12  7.827807e+21 -2.208979e+24   \n",
       "773  1.749918e+13   93.866239  6.910337e+12  9.527869e+21 -3.495241e+24   \n",
       "55   5.026830e+11    4.728189  1.227779e+11  1.458736e+20 -2.525715e+22   \n",
       "\n",
       "          MEANPOT  ...   HC_ANGLE  SPEI    LAT_MIN    LON_MIN    LAT_MAX  \\\n",
       "907   4218.580504  ...  11.339448  True -16.222870  -1.229158  -6.962595   \n",
       "491  11871.138943  ...  43.862663  True  18.190350 -55.205151  27.566216   \n",
       "596   8046.578944  ...  21.839263  True   1.054148 -24.583544  10.352530   \n",
       "773   2440.534053  ...  20.598992  True   2.389273 -25.392481  22.804871   \n",
       "55    2344.144663  ...  10.842520  True -11.167577   6.508239  -9.402390   \n",
       "\n",
       "       LON_MAX  QUALITY  XR_QUAL  IS_TMFI  y  \n",
       "907  16.275675      0.0       12     True  0  \n",
       "491 -32.911865      0.0       12     True  0  \n",
       "596 -11.287811      0.0       12     True  0  \n",
       "773  16.151649      0.0       12     True  0  \n",
       "55   10.045568      0.0       12     True  0  \n",
       "\n",
       "[5 rows x 39 columns]"
      ]
     },
     "execution_count": 22,
     "metadata": {},
     "output_type": "execute_result"
    }
   ],
   "source": [
    "df_no_flares = df.loc[df['y'] == 0]\n",
    "df_no_flares.sample(5)"
   ]
  },
  {
   "cell_type": "code",
   "execution_count": 23,
   "id": "417f748c-bdc0-4bcc-ba9a-f4c863dfe14f",
   "metadata": {},
   "outputs": [
    {
     "data": {
      "text/plain": [
       "(2067712, 39)"
      ]
     },
     "metadata": {},
     "output_type": "display_data"
    }
   ],
   "source": [
    "df_no_flares = df_no_flares[df_no_flares.IS_TMFI==True]\n",
    "display(df_no_flares.shape)"
   ]
  },
  {
   "cell_type": "code",
   "execution_count": 24,
   "id": "7ab38333-d0db-4190-a4b3-4e05d07686ee",
   "metadata": {},
   "outputs": [
    {
     "data": {
      "text/plain": [
       "(2043066, 39)"
      ]
     },
     "metadata": {},
     "output_type": "display_data"
    }
   ],
   "source": [
    "df_no_flares = df_no_flares[df_no_flares.XR_QUAL==12]\n",
    "display(df_no_flares.shape)"
   ]
  },
  {
   "cell_type": "code",
   "execution_count": 26,
   "id": "2ab15222-1a63-48c5-9bba-d7c992c0c437",
   "metadata": {},
   "outputs": [
    {
     "data": {
      "text/plain": [
       "(2023617, 39)"
      ]
     },
     "execution_count": 26,
     "metadata": {},
     "output_type": "execute_result"
    }
   ],
   "source": [
    "df_no_flares = df_no_flares.dropna()\n",
    "df_no_flares.shape"
   ]
  },
  {
   "cell_type": "code",
   "execution_count": 27,
   "id": "7b87aad1-4420-4485-8fd1-0e524818236e",
   "metadata": {},
   "outputs": [
    {
     "data": {
      "text/plain": [
       "(20236, 39)"
      ]
     },
     "metadata": {},
     "output_type": "display_data"
    }
   ],
   "source": [
    "df_no_flares = df_no_flares.sample(frac=0.01)\n",
    "display(df_no_flares.shape)"
   ]
  },
  {
   "cell_type": "code",
   "execution_count": 28,
   "id": "47443db1-29b8-402c-816b-167a6d50890c",
   "metadata": {},
   "outputs": [
    {
     "data": {
      "text/html": [
       "<div>\n",
       "<style scoped>\n",
       "    .dataframe tbody tr th:only-of-type {\n",
       "        vertical-align: middle;\n",
       "    }\n",
       "\n",
       "    .dataframe tbody tr th {\n",
       "        vertical-align: top;\n",
       "    }\n",
       "\n",
       "    .dataframe thead th {\n",
       "        text-align: right;\n",
       "    }\n",
       "</style>\n",
       "<table border=\"1\" class=\"dataframe\">\n",
       "  <thead>\n",
       "    <tr style=\"text-align: right;\">\n",
       "      <th></th>\n",
       "      <th>Timestamp</th>\n",
       "      <th>TOTUSJH</th>\n",
       "      <th>TOTBSQ</th>\n",
       "      <th>TOTPOT</th>\n",
       "      <th>TOTUSJZ</th>\n",
       "      <th>ABSNJZH</th>\n",
       "      <th>SAVNCPP</th>\n",
       "      <th>USFLUX</th>\n",
       "      <th>TOTFZ</th>\n",
       "      <th>MEANPOT</th>\n",
       "      <th>...</th>\n",
       "      <th>HC_ANGLE</th>\n",
       "      <th>SPEI</th>\n",
       "      <th>LAT_MIN</th>\n",
       "      <th>LON_MIN</th>\n",
       "      <th>LAT_MAX</th>\n",
       "      <th>LON_MAX</th>\n",
       "      <th>QUALITY</th>\n",
       "      <th>XR_QUAL</th>\n",
       "      <th>IS_TMFI</th>\n",
       "      <th>y</th>\n",
       "    </tr>\n",
       "  </thead>\n",
       "  <tbody>\n",
       "    <tr>\n",
       "      <th>1515</th>\n",
       "      <td>2015-03-18 14:24:00</td>\n",
       "      <td>1264.020220</td>\n",
       "      <td>2.211211e+10</td>\n",
       "      <td>3.059855e+23</td>\n",
       "      <td>2.172032e+13</td>\n",
       "      <td>431.856521</td>\n",
       "      <td>1.562873e+13</td>\n",
       "      <td>2.560062e+22</td>\n",
       "      <td>-1.191569e+25</td>\n",
       "      <td>6419.522541</td>\n",
       "      <td>...</td>\n",
       "      <td>69.635193</td>\n",
       "      <td>True</td>\n",
       "      <td>-25.434742</td>\n",
       "      <td>61.182724</td>\n",
       "      <td>-13.657822</td>\n",
       "      <td>79.252777</td>\n",
       "      <td>0.0</td>\n",
       "      <td>12</td>\n",
       "      <td>True</td>\n",
       "      <td>2</td>\n",
       "    </tr>\n",
       "    <tr>\n",
       "      <th>312</th>\n",
       "      <td>2015-01-08 15:48:00</td>\n",
       "      <td>900.696323</td>\n",
       "      <td>9.651117e+09</td>\n",
       "      <td>6.801565e+22</td>\n",
       "      <td>2.004277e+13</td>\n",
       "      <td>91.396396</td>\n",
       "      <td>5.374307e+12</td>\n",
       "      <td>1.798627e+22</td>\n",
       "      <td>-8.457749e+24</td>\n",
       "      <td>1821.557316</td>\n",
       "      <td>...</td>\n",
       "      <td>57.865408</td>\n",
       "      <td>True</td>\n",
       "      <td>10.584682</td>\n",
       "      <td>-65.882011</td>\n",
       "      <td>19.604328</td>\n",
       "      <td>-41.900948</td>\n",
       "      <td>0.0</td>\n",
       "      <td>12</td>\n",
       "      <td>True</td>\n",
       "      <td>2</td>\n",
       "    </tr>\n",
       "    <tr>\n",
       "      <th>847</th>\n",
       "      <td>2012-08-13 12:36:00</td>\n",
       "      <td>NaN</td>\n",
       "      <td>NaN</td>\n",
       "      <td>NaN</td>\n",
       "      <td>NaN</td>\n",
       "      <td>NaN</td>\n",
       "      <td>NaN</td>\n",
       "      <td>NaN</td>\n",
       "      <td>NaN</td>\n",
       "      <td>NaN</td>\n",
       "      <td>...</td>\n",
       "      <td>NaN</td>\n",
       "      <td>False</td>\n",
       "      <td>NaN</td>\n",
       "      <td>NaN</td>\n",
       "      <td>NaN</td>\n",
       "      <td>NaN</td>\n",
       "      <td>NaN</td>\n",
       "      <td>12</td>\n",
       "      <td>False</td>\n",
       "      <td>2</td>\n",
       "    </tr>\n",
       "    <tr>\n",
       "      <th>971</th>\n",
       "      <td>2014-05-21 08:24:00</td>\n",
       "      <td>309.946406</td>\n",
       "      <td>4.051947e+09</td>\n",
       "      <td>4.364569e+22</td>\n",
       "      <td>5.710092e+12</td>\n",
       "      <td>0.711843</td>\n",
       "      <td>1.042897e+12</td>\n",
       "      <td>5.027344e+21</td>\n",
       "      <td>-2.521294e+24</td>\n",
       "      <td>4675.575940</td>\n",
       "      <td>...</td>\n",
       "      <td>59.622484</td>\n",
       "      <td>True</td>\n",
       "      <td>-20.463892</td>\n",
       "      <td>51.908009</td>\n",
       "      <td>-14.880850</td>\n",
       "      <td>62.661709</td>\n",
       "      <td>0.0</td>\n",
       "      <td>12</td>\n",
       "      <td>True</td>\n",
       "      <td>1</td>\n",
       "    </tr>\n",
       "    <tr>\n",
       "      <th>287</th>\n",
       "      <td>2015-01-09 05:48:00</td>\n",
       "      <td>1996.910851</td>\n",
       "      <td>3.427240e+10</td>\n",
       "      <td>4.864610e+23</td>\n",
       "      <td>3.931992e+13</td>\n",
       "      <td>233.288133</td>\n",
       "      <td>1.316720e+13</td>\n",
       "      <td>3.987497e+22</td>\n",
       "      <td>-1.727417e+25</td>\n",
       "      <td>6499.846372</td>\n",
       "      <td>...</td>\n",
       "      <td>56.523539</td>\n",
       "      <td>True</td>\n",
       "      <td>-30.294910</td>\n",
       "      <td>-72.585892</td>\n",
       "      <td>-7.282441</td>\n",
       "      <td>-31.456282</td>\n",
       "      <td>0.0</td>\n",
       "      <td>12</td>\n",
       "      <td>True</td>\n",
       "      <td>2</td>\n",
       "    </tr>\n",
       "  </tbody>\n",
       "</table>\n",
       "<p>5 rows × 39 columns</p>\n",
       "</div>"
      ],
      "text/plain": [
       "                Timestamp      TOTUSJH        TOTBSQ        TOTPOT  \\\n",
       "1515  2015-03-18 14:24:00  1264.020220  2.211211e+10  3.059855e+23   \n",
       "312   2015-01-08 15:48:00   900.696323  9.651117e+09  6.801565e+22   \n",
       "847   2012-08-13 12:36:00          NaN           NaN           NaN   \n",
       "971   2014-05-21 08:24:00   309.946406  4.051947e+09  4.364569e+22   \n",
       "287   2015-01-09 05:48:00  1996.910851  3.427240e+10  4.864610e+23   \n",
       "\n",
       "           TOTUSJZ     ABSNJZH       SAVNCPP        USFLUX         TOTFZ  \\\n",
       "1515  2.172032e+13  431.856521  1.562873e+13  2.560062e+22 -1.191569e+25   \n",
       "312   2.004277e+13   91.396396  5.374307e+12  1.798627e+22 -8.457749e+24   \n",
       "847            NaN         NaN           NaN           NaN           NaN   \n",
       "971   5.710092e+12    0.711843  1.042897e+12  5.027344e+21 -2.521294e+24   \n",
       "287   3.931992e+13  233.288133  1.316720e+13  3.987497e+22 -1.727417e+25   \n",
       "\n",
       "          MEANPOT  ...   HC_ANGLE   SPEI    LAT_MIN    LON_MIN    LAT_MAX  \\\n",
       "1515  6419.522541  ...  69.635193   True -25.434742  61.182724 -13.657822   \n",
       "312   1821.557316  ...  57.865408   True  10.584682 -65.882011  19.604328   \n",
       "847           NaN  ...        NaN  False        NaN        NaN        NaN   \n",
       "971   4675.575940  ...  59.622484   True -20.463892  51.908009 -14.880850   \n",
       "287   6499.846372  ...  56.523539   True -30.294910 -72.585892  -7.282441   \n",
       "\n",
       "        LON_MAX  QUALITY  XR_QUAL  IS_TMFI  y  \n",
       "1515  79.252777      0.0       12     True  2  \n",
       "312  -41.900948      0.0       12     True  2  \n",
       "847         NaN      NaN       12    False  2  \n",
       "971   62.661709      0.0       12     True  1  \n",
       "287  -31.456282      0.0       12     True  2  \n",
       "\n",
       "[5 rows x 39 columns]"
      ]
     },
     "execution_count": 28,
     "metadata": {},
     "output_type": "execute_result"
    }
   ],
   "source": [
    "df_flares = df.loc[df['y'] != 0]\n",
    "df_flares.sample(5)"
   ]
  },
  {
   "cell_type": "code",
   "execution_count": 29,
   "id": "42080815-d7ff-4878-9af6-d6a300ba91f8",
   "metadata": {},
   "outputs": [
    {
     "data": {
      "text/plain": [
       "(11905, 39)"
      ]
     },
     "metadata": {},
     "output_type": "display_data"
    }
   ],
   "source": [
    "df_flares = df_flares.dropna()\n",
    "display(df_flares.shape)"
   ]
  },
  {
   "cell_type": "code",
   "execution_count": 30,
   "id": "8e0953d2-32be-44b0-898a-b9a51d335117",
   "metadata": {},
   "outputs": [
    {
     "data": {
      "text/plain": [
       "(32141, 39)"
      ]
     },
     "execution_count": 30,
     "metadata": {},
     "output_type": "execute_result"
    }
   ],
   "source": [
    "df_data = pd.concat([df_flares, df_no_flares])\n",
    "df_data.shape"
   ]
  },
  {
   "cell_type": "code",
   "execution_count": 31,
   "id": "6b21bfe1-6231-4261-af81-aa740f478c24",
   "metadata": {},
   "outputs": [],
   "source": [
    "df_data['Timestamp'] = pd.to_datetime(df_data['Timestamp'])"
   ]
  },
  {
   "cell_type": "code",
   "execution_count": 32,
   "id": "5a1e054e-256c-4306-bacb-2f94a517d59b",
   "metadata": {},
   "outputs": [
    {
     "data": {
      "text/plain": [
       "Index(['Timestamp', 'TOTUSJH', 'TOTBSQ', 'TOTPOT', 'TOTUSJZ', 'ABSNJZH',\n",
       "       'SAVNCPP', 'USFLUX', 'TOTFZ', 'MEANPOT', 'EPSZ', 'MEANSHR', 'SHRGT45',\n",
       "       'MEANGAM', 'MEANGBT', 'MEANGBZ', 'MEANGBH', 'MEANJZH', 'TOTFY',\n",
       "       'MEANJZD', 'MEANALP', 'TOTFX', 'EPSY', 'EPSX', 'R_VALUE', 'CRVAL1',\n",
       "       'CRLN_OBS', 'CRLT_OBS', 'CRVAL2', 'HC_ANGLE', 'SPEI', 'LAT_MIN',\n",
       "       'LON_MIN', 'LAT_MAX', 'LON_MAX', 'QUALITY', 'XR_QUAL', 'IS_TMFI', 'y'],\n",
       "      dtype='object')"
      ]
     },
     "execution_count": 32,
     "metadata": {},
     "output_type": "execute_result"
    }
   ],
   "source": [
    "df_data.columns"
   ]
  },
  {
   "cell_type": "code",
   "execution_count": 33,
   "id": "8637fe87-14ca-4434-b7d0-9bb0468859a7",
   "metadata": {},
   "outputs": [],
   "source": [
    "df_data = df_data.drop([\n",
    "    'CRVAL1',\n",
    "    'CRLN_OBS', \n",
    "    'CRLT_OBS', \n",
    "    'CRVAL2', \n",
    "    'HC_ANGLE', \n",
    "    'SPEI', \n",
    "    'LAT_MIN',\n",
    "    'LON_MIN', \n",
    "    'LAT_MAX', \n",
    "    'LON_MAX', \n",
    "    'QUALITY', \n",
    "    'XR_QUAL', \n",
    "    'IS_TMFI'\n",
    "], axis=1)"
   ]
  },
  {
   "cell_type": "code",
   "execution_count": 34,
   "id": "9e337606-c23f-4a43-b32f-dccbfd478c2c",
   "metadata": {},
   "outputs": [
    {
     "data": {
      "text/html": [
       "<div>\n",
       "<style scoped>\n",
       "    .dataframe tbody tr th:only-of-type {\n",
       "        vertical-align: middle;\n",
       "    }\n",
       "\n",
       "    .dataframe tbody tr th {\n",
       "        vertical-align: top;\n",
       "    }\n",
       "\n",
       "    .dataframe thead th {\n",
       "        text-align: right;\n",
       "    }\n",
       "</style>\n",
       "<table border=\"1\" class=\"dataframe\">\n",
       "  <thead>\n",
       "    <tr style=\"text-align: right;\">\n",
       "      <th></th>\n",
       "      <th>Timestamp</th>\n",
       "      <th>TOTUSJH</th>\n",
       "      <th>TOTBSQ</th>\n",
       "      <th>TOTPOT</th>\n",
       "      <th>TOTUSJZ</th>\n",
       "      <th>ABSNJZH</th>\n",
       "      <th>SAVNCPP</th>\n",
       "      <th>USFLUX</th>\n",
       "      <th>TOTFZ</th>\n",
       "      <th>MEANPOT</th>\n",
       "      <th>...</th>\n",
       "      <th>MEANGBH</th>\n",
       "      <th>MEANJZH</th>\n",
       "      <th>TOTFY</th>\n",
       "      <th>MEANJZD</th>\n",
       "      <th>MEANALP</th>\n",
       "      <th>TOTFX</th>\n",
       "      <th>EPSY</th>\n",
       "      <th>EPSX</th>\n",
       "      <th>R_VALUE</th>\n",
       "      <th>y</th>\n",
       "    </tr>\n",
       "  </thead>\n",
       "  <tbody>\n",
       "    <tr>\n",
       "      <th>653</th>\n",
       "      <td>2014-11-09 14:12:00</td>\n",
       "      <td>35.418636</td>\n",
       "      <td>2.155194e+08</td>\n",
       "      <td>1.718073e+21</td>\n",
       "      <td>7.417155e+11</td>\n",
       "      <td>1.100370</td>\n",
       "      <td>4.318972e+10</td>\n",
       "      <td>3.768934e+20</td>\n",
       "      <td>-1.638307e+23</td>\n",
       "      <td>1948.322948</td>\n",
       "      <td>...</td>\n",
       "      <td>63.790037</td>\n",
       "      <td>0.001657</td>\n",
       "      <td>-7.439850e+22</td>\n",
       "      <td>0.084173</td>\n",
       "      <td>0.006494</td>\n",
       "      <td>-4.614585e+22</td>\n",
       "      <td>0.259935</td>\n",
       "      <td>0.161226</td>\n",
       "      <td>2.003868</td>\n",
       "      <td>0</td>\n",
       "    </tr>\n",
       "    <tr>\n",
       "      <th>257</th>\n",
       "      <td>2011-02-14 12:36:00</td>\n",
       "      <td>177.359527</td>\n",
       "      <td>1.504081e+09</td>\n",
       "      <td>1.120153e+22</td>\n",
       "      <td>3.856975e+12</td>\n",
       "      <td>27.832652</td>\n",
       "      <td>1.804825e+12</td>\n",
       "      <td>2.931330e+21</td>\n",
       "      <td>-1.312363e+24</td>\n",
       "      <td>1848.073040</td>\n",
       "      <td>...</td>\n",
       "      <td>36.906761</td>\n",
       "      <td>0.006098</td>\n",
       "      <td>4.018629e+23</td>\n",
       "      <td>-0.743018</td>\n",
       "      <td>0.022335</td>\n",
       "      <td>3.963672e+23</td>\n",
       "      <td>-0.201184</td>\n",
       "      <td>-0.198433</td>\n",
       "      <td>0.000000</td>\n",
       "      <td>0</td>\n",
       "    </tr>\n",
       "    <tr>\n",
       "      <th>102</th>\n",
       "      <td>2017-11-17 03:48:00</td>\n",
       "      <td>50.184912</td>\n",
       "      <td>3.778164e+08</td>\n",
       "      <td>3.463896e+21</td>\n",
       "      <td>1.044649e+12</td>\n",
       "      <td>10.032482</td>\n",
       "      <td>4.056207e+11</td>\n",
       "      <td>5.349006e+20</td>\n",
       "      <td>-2.108180e+23</td>\n",
       "      <td>2891.650875</td>\n",
       "      <td>...</td>\n",
       "      <td>82.087696</td>\n",
       "      <td>0.011122</td>\n",
       "      <td>5.267773e+22</td>\n",
       "      <td>0.771676</td>\n",
       "      <td>0.037396</td>\n",
       "      <td>-1.127749e+23</td>\n",
       "      <td>-0.104987</td>\n",
       "      <td>0.224760</td>\n",
       "      <td>1.893584</td>\n",
       "      <td>0</td>\n",
       "    </tr>\n",
       "    <tr>\n",
       "      <th>809</th>\n",
       "      <td>2012-07-29 15:00:00</td>\n",
       "      <td>4366.764602</td>\n",
       "      <td>6.367477e+10</td>\n",
       "      <td>1.040913e+24</td>\n",
       "      <td>8.806018e+13</td>\n",
       "      <td>26.884507</td>\n",
       "      <td>1.176457e+12</td>\n",
       "      <td>6.589724e+22</td>\n",
       "      <td>-2.380339e+25</td>\n",
       "      <td>8176.956493</td>\n",
       "      <td>...</td>\n",
       "      <td>50.806088</td>\n",
       "      <td>0.000280</td>\n",
       "      <td>-6.565660e+24</td>\n",
       "      <td>0.018742</td>\n",
       "      <td>0.000659</td>\n",
       "      <td>8.084499e+24</td>\n",
       "      <td>0.077642</td>\n",
       "      <td>-0.095603</td>\n",
       "      <td>4.858811</td>\n",
       "      <td>2</td>\n",
       "    </tr>\n",
       "    <tr>\n",
       "      <th>55</th>\n",
       "      <td>2016-04-25 20:00:00</td>\n",
       "      <td>332.305389</td>\n",
       "      <td>4.587397e+09</td>\n",
       "      <td>3.728376e+22</td>\n",
       "      <td>5.318862e+12</td>\n",
       "      <td>91.838143</td>\n",
       "      <td>3.535448e+12</td>\n",
       "      <td>6.361062e+21</td>\n",
       "      <td>-3.649316e+24</td>\n",
       "      <td>3431.631312</td>\n",
       "      <td>...</td>\n",
       "      <td>40.422745</td>\n",
       "      <td>0.011226</td>\n",
       "      <td>1.772778e+23</td>\n",
       "      <td>-0.250516</td>\n",
       "      <td>0.025040</td>\n",
       "      <td>7.990113e+23</td>\n",
       "      <td>-0.029099</td>\n",
       "      <td>-0.131152</td>\n",
       "      <td>4.425461</td>\n",
       "      <td>1</td>\n",
       "    </tr>\n",
       "  </tbody>\n",
       "</table>\n",
       "<p>5 rows × 26 columns</p>\n",
       "</div>"
      ],
      "text/plain": [
       "              Timestamp      TOTUSJH        TOTBSQ        TOTPOT  \\\n",
       "653 2014-11-09 14:12:00    35.418636  2.155194e+08  1.718073e+21   \n",
       "257 2011-02-14 12:36:00   177.359527  1.504081e+09  1.120153e+22   \n",
       "102 2017-11-17 03:48:00    50.184912  3.778164e+08  3.463896e+21   \n",
       "809 2012-07-29 15:00:00  4366.764602  6.367477e+10  1.040913e+24   \n",
       "55  2016-04-25 20:00:00   332.305389  4.587397e+09  3.728376e+22   \n",
       "\n",
       "          TOTUSJZ    ABSNJZH       SAVNCPP        USFLUX         TOTFZ  \\\n",
       "653  7.417155e+11   1.100370  4.318972e+10  3.768934e+20 -1.638307e+23   \n",
       "257  3.856975e+12  27.832652  1.804825e+12  2.931330e+21 -1.312363e+24   \n",
       "102  1.044649e+12  10.032482  4.056207e+11  5.349006e+20 -2.108180e+23   \n",
       "809  8.806018e+13  26.884507  1.176457e+12  6.589724e+22 -2.380339e+25   \n",
       "55   5.318862e+12  91.838143  3.535448e+12  6.361062e+21 -3.649316e+24   \n",
       "\n",
       "         MEANPOT  ...    MEANGBH   MEANJZH         TOTFY   MEANJZD   MEANALP  \\\n",
       "653  1948.322948  ...  63.790037  0.001657 -7.439850e+22  0.084173  0.006494   \n",
       "257  1848.073040  ...  36.906761  0.006098  4.018629e+23 -0.743018  0.022335   \n",
       "102  2891.650875  ...  82.087696  0.011122  5.267773e+22  0.771676  0.037396   \n",
       "809  8176.956493  ...  50.806088  0.000280 -6.565660e+24  0.018742  0.000659   \n",
       "55   3431.631312  ...  40.422745  0.011226  1.772778e+23 -0.250516  0.025040   \n",
       "\n",
       "            TOTFX      EPSY      EPSX   R_VALUE  y  \n",
       "653 -4.614585e+22  0.259935  0.161226  2.003868  0  \n",
       "257  3.963672e+23 -0.201184 -0.198433  0.000000  0  \n",
       "102 -1.127749e+23 -0.104987  0.224760  1.893584  0  \n",
       "809  8.084499e+24  0.077642 -0.095603  4.858811  2  \n",
       "55   7.990113e+23 -0.029099 -0.131152  4.425461  1  \n",
       "\n",
       "[5 rows x 26 columns]"
      ]
     },
     "execution_count": 34,
     "metadata": {},
     "output_type": "execute_result"
    }
   ],
   "source": [
    "df_data.sample(5)"
   ]
  },
  {
   "cell_type": "code",
   "execution_count": 35,
   "id": "af94e8df-f33d-4e6f-9e55-11ffbcdf6c4c",
   "metadata": {},
   "outputs": [
    {
     "data": {
      "text/plain": [
       "(32141, 26)"
      ]
     },
     "execution_count": 35,
     "metadata": {},
     "output_type": "execute_result"
    }
   ],
   "source": [
    "df_data.shape"
   ]
  },
  {
   "cell_type": "code",
   "execution_count": 36,
   "id": "75eb0c18-5230-4844-bec4-da9e3c9fa883",
   "metadata": {},
   "outputs": [],
   "source": [
    "df_data.to_csv('data.csv')"
   ]
  }
 ],
 "metadata": {
  "kernelspec": {
   "display_name": "Python 3 (ipykernel)",
   "language": "python",
   "name": "python3"
  },
  "language_info": {
   "codemirror_mode": {
    "name": "ipython",
    "version": 3
   },
   "file_extension": ".py",
   "mimetype": "text/x-python",
   "name": "python",
   "nbconvert_exporter": "python",
   "pygments_lexer": "ipython3",
   "version": "3.11.7"
  }
 },
 "nbformat": 4,
 "nbformat_minor": 5
}
