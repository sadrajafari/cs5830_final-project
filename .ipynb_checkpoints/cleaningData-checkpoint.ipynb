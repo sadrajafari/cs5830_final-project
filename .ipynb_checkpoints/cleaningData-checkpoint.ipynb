{
 "cells": [
  {
   "cell_type": "code",
   "execution_count": null,
   "id": "a0970770-b7f8-40a4-a5af-f71a70b74e95",
   "metadata": {},
   "outputs": [],
   "source": [
    "import os\n",
    "import pandas as pd\n",
    "import seaborn as sns\n",
    "from sklearn.tree import DecisionTreeClassifier"
   ]
  },
  {
   "cell_type": "code",
   "execution_count": null,
   "id": "9dd73d45-356d-41c4-8660-6b7b787ddfe4",
   "metadata": {},
   "outputs": [],
   "source": [
    "df = pd.read_csv(\"combine.csv\", index_col=0)\n",
    "df.shape"
   ]
  },
  {
   "cell_type": "code",
   "execution_count": null,
   "id": "69816679-4613-4f95-884a-5427dc2c66b3",
   "metadata": {},
   "outputs": [],
   "source": [
    "![image.png](attachment:a7e964a2-7a59-4e1e-bba5-45ada593c0f4.png)"
   ]
  },
  {
   "cell_type": "code",
   "execution_count": null,
   "id": "d7d1eb8b-e6fc-44cc-8f22-23fdb07a98f8",
   "metadata": {},
   "outputs": [],
   "source": [
    "df = df.drop([\n",
    "    'MFLARE_LABEL', \n",
    "    'BFLARE_LABEL', \n",
    "    'CFLARE_LABEL', \n",
    "    'XFLARE_LABEL', \n",
    "    'XFLARE_LABEL_LOC', \n",
    "    'BFLARE_LABEL_LOC', \n",
    "    'MFLARE_LABEL_LOC', \n",
    "    'CFLARE_LABEL_LOC', \n",
    "    'BFLARE_LOC', \n",
    "    'XFLARE_LOC',\n",
    "    'MFLARE_LOC',\n",
    "    'CFLARE_LOC'\n",
    "], axis=1)\n",
    "df.shape"
   ]
  },
  {
   "cell_type": "code",
   "execution_count": null,
   "id": "695c5b54-e9b5-4db0-b198-9b709070eff3",
   "metadata": {},
   "outputs": [],
   "source": [
    "df_X = df[df.XFLARE != 0]\n",
    "display(df_X.shape)\n",
    "df_B = df[df.BFLARE != 0]\n",
    "display(df_B.shape)\n",
    "df_C = df[df.CFLARE != 0]\n",
    "display(df_C.shape)\n",
    "df_M = df[df.MFLARE != 0]\n",
    "display(df_M.shape)"
   ]
  },
  {
   "cell_type": "code",
   "execution_count": null,
   "id": "7ab38333-d0db-4190-a4b3-4e05d07686ee",
   "metadata": {},
   "outputs": [],
   "source": [
    "df_temp = df[df.IS_TMFI]\n",
    "display(df_temp.shape)\n",
    "df_temp = df_temp[df_temp.XR_QUAL==12]\n",
    "display(df_temp.shape)"
   ]
  },
  {
   "cell_type": "code",
   "execution_count": null,
   "id": "7b87aad1-4420-4485-8fd1-0e524818236e",
   "metadata": {},
   "outputs": [],
   "source": [
    "df_temp = df_temp.sample(frac=0.01)\n",
    "display(df_temp.shape)"
   ]
  },
  {
   "cell_type": "code",
   "execution_count": null,
   "id": "8e0953d2-32be-44b0-898a-b9a51d335117",
   "metadata": {},
   "outputs": [],
   "source": [
    "df_data = pd.concat([df_temp, df_X, df_B, df_C, df_M])\n",
    "df_data.shape"
   ]
  },
  {
   "cell_type": "code",
   "execution_count": null,
   "id": "fe016e32-0fb4-4c61-b934-828f23787d0e",
   "metadata": {},
   "outputs": [],
   "source": [
    "df_data['y'] = 0\n",
    "df_data.loc[df_data['BFLARE'] > 0, 'y'] = 1\n",
    "df_data.loc[df_data['CFLARE'] > 0, 'y'] = 2\n",
    "df_data.loc[df_data['MFLARE'] > 0, 'y'] = 3\n",
    "df_data.loc[df_data['XFLARE'] > 0, 'y'] = 4"
   ]
  },
  {
   "cell_type": "code",
   "execution_count": null,
   "id": "6b21bfe1-6231-4261-af81-aa740f478c24",
   "metadata": {},
   "outputs": [],
   "source": [
    "df_data['Timestamp'] = pd.to_datetime(df_data['Timestamp'])"
   ]
  },
  {
   "cell_type": "code",
   "execution_count": null,
   "id": "8637fe87-14ca-4434-b7d0-9bb0468859a7",
   "metadata": {},
   "outputs": [],
   "source": [
    "df_data = df_data.drop([\n",
    "    'XFLARE', \n",
    "    'BFLARE',\n",
    "    'CFLARE',\n",
    "    'MFLARE',\n",
    "    'IS_TMFI',\n",
    "    'XR_QUAL',\n",
    "    'QUALITY',\n",
    "    'SPEI',\n",
    "], axis=1)"
   ]
  },
  {
   "cell_type": "code",
   "execution_count": null,
   "id": "9e337606-c23f-4a43-b32f-dccbfd478c2c",
   "metadata": {},
   "outputs": [],
   "source": [
    "df_data.sample(5)"
   ]
  },
  {
   "cell_type": "code",
   "execution_count": null,
   "id": "8e275609-7173-4277-8c7a-140a65f4f91a",
   "metadata": {},
   "outputs": [],
   "source": [
    "df_data.corr()[['y']]"
   ]
  },
  {
   "cell_type": "code",
   "execution_count": null,
   "id": "a4dd4b16-e4c4-4d50-a62c-3c65b2beeb2c",
   "metadata": {},
   "outputs": [],
   "source": [
    "df_analysis = df_data[[\n",
    "    'TOTUSJH', \n",
    "    'TOTBSQ', \n",
    "    'TOTPOT',\n",
    "    'TOTUSJZ', \n",
    "    'ABSNJZH', \n",
    "    'SAVNCPP', \n",
    "    'USFLUX', \n",
    "    'TOTFZ', \n",
    "    'EPSZ', \n",
    "    'MEANSHR', \n",
    "    'SHRGT45', \n",
    "    'MEANGAM', \n",
    "    'MEANGBT',\n",
    "    'MEANGBZ',\n",
    "    'R_VALUE',\n",
    "    'HC_ANGLE',\n",
    "    'y'\n",
    "]]"
   ]
  },
  {
   "cell_type": "code",
   "execution_count": null,
   "id": "75eb0c18-5230-4844-bec4-da9e3c9fa883",
   "metadata": {},
   "outputs": [],
   "source": [
    "df_analysis.to_csv('data.csv')\n",
    "os.remove('combine.csv')"
   ]
  }
 ],
 "metadata": {
  "kernelspec": {
   "display_name": "Python 3 (ipykernel)",
   "language": "python",
   "name": "python3"
  },
  "language_info": {
   "codemirror_mode": {
    "name": "ipython",
    "version": 3
   },
   "file_extension": ".py",
   "mimetype": "text/x-python",
   "name": "python",
   "nbconvert_exporter": "python",
   "pygments_lexer": "ipython3",
   "version": "3.11.7"
  }
 },
 "nbformat": 4,
 "nbformat_minor": 5
}
